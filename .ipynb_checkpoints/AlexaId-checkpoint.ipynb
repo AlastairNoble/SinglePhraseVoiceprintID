{
 "cells": [
  {
   "cell_type": "code",
   "execution_count": 14,
   "metadata": {},
   "outputs": [],
   "source": [
    "import pandas as pd\n",
    "import os"
   ]
  },
  {
   "cell_type": "code",
   "execution_count": 16,
   "metadata": {},
   "outputs": [],
   "source": [
    "speakers = os.listdir('alexa/')"
   ]
  },
  {
   "cell_type": "code",
   "execution_count": 39,
   "metadata": {},
   "outputs": [
    {
     "name": "stdout",
     "output_type": "stream",
     "text": [
      "      speaker              filepath\n",
      "0    anfcucvo  alexa/anfcucvo/1.wav\n",
      "1    anfcucvo  alexa/anfcucvo/2.wav\n",
      "2    anfcucvo  alexa/anfcucvo/3.wav\n",
      "3    anfcucvo  alexa/anfcucvo/4.wav\n",
      "4    anfcucvo  alexa/anfcucvo/5.wav\n",
      "..        ...                   ...\n",
      "364  zmnsojmf  alexa/zmnsojmf/4.wav\n",
      "365  zzgleilo  alexa/zzgleilo/1.wav\n",
      "366  zzgleilo  alexa/zzgleilo/2.wav\n",
      "367  zzgleilo  alexa/zzgleilo/3.wav\n",
      "368  zzgleilo  alexa/zzgleilo/4.wav\n",
      "\n",
      "[369 rows x 2 columns]\n"
     ]
    }
   ],
   "source": [
    "df = pd.DataFrame(columns=['speaker','filepath'])\n",
    "for speaker in speakers:\n",
    "    files = os.listdir('alexa/{}/'.format(speaker))\n",
    "    for file in files:\n",
    "        filepath = 'alexa/{}/{}'.format(speaker, file)\n",
    "        df = df.append({'speaker':speaker, 'filepath':filepath}, ignore_index=True)\n",
    "print(df)"
   ]
  },
  {
   "cell_type": "code",
   "execution_count": 40,
   "metadata": {},
   "outputs": [],
   "source": [
    "from sklearn.model_selection import train_test_split"
   ]
  },
  {
   "cell_type": "code",
   "execution_count": 65,
   "metadata": {},
   "outputs": [
    {
     "name": "stdout",
     "output_type": "stream",
     "text": [
      "      speaker              filepath\n",
      "24   bqblxokh  alexa/bqblxokh/4.wav\n",
      "227  onnnswlx  alexa/onnnswlx/3.wav\n",
      "73   fsyeviyq  alexa/fsyeviyq/1.wav\n",
      "248  rseqbffb  alexa/rseqbffb/2.wav\n",
      "52   fbakxffn  alexa/fbakxffn/4.wav\n",
      "..        ...                   ...\n",
      "197  lperewmq  alexa/lperewmq/1.wav\n",
      "161  krdssgoc  alexa/krdssgoc/3.wav\n",
      "244  rnivxgyz  alexa/rnivxgyz/2.wav\n",
      "360  zgmrhuwb  alexa/zgmrhuwb/4.wav\n",
      "298  vlfafluc  alexa/vlfafluc/4.wav\n",
      "\n",
      "[276 rows x 2 columns]\n"
     ]
    }
   ],
   "source": [
    "train, test = train_test_split(df, test_size = 0.25, stratify = df['speaker'])\n",
    "# the stratify parameter makes the function split data evenly over the speakers column\n",
    "# this is so we dont get all files of the same speaker in the test set and not the training set\n",
    "print(train)"
   ]
  },
  {
   "cell_type": "code",
   "execution_count": 66,
   "metadata": {},
   "outputs": [],
   "source": [
    "import librosa"
   ]
  },
  {
   "cell_type": "code",
   "execution_count": 67,
   "metadata": {},
   "outputs": [],
   "source": [
    "def extract_features(filename):\n",
    "    \n",
    "    X, sample_rate = librosa.load(filename, res_type='kaiser_fast')\n",
    "    \n",
    "    mfccs = librosa.feature.mfcc(y=X, sr=sample_rate, n_mfcc=40)\n",
    "\n",
    "    return mfccs"
   ]
  },
  {
   "cell_type": "code",
   "execution_count": 74,
   "metadata": {},
   "outputs": [
    {
     "name": "stdout",
     "output_type": "stream",
     "text": [
      "[[-5.4602295e+02 -4.6497708e+02 -4.4563998e+02 ... -5.3794788e+02\n",
      "  -5.3871210e+02 -5.5161633e+02]\n",
      " [ 6.6446342e+01  1.2070842e+02  1.2920062e+02 ...  7.0282883e+01\n",
      "   7.1751129e+01  6.9234131e+01]\n",
      " [ 2.5904257e+01 -2.0075550e+00 -7.6244440e+00 ...  3.0608452e+01\n",
      "   3.4209656e+01  3.9892284e+01]\n",
      " ...\n",
      " [ 4.5199814e+00  3.4188241e-01 -6.9050020e-01 ...  4.8367424e+00\n",
      "   4.6415453e+00  5.2037086e+00]\n",
      " [ 5.6523366e+00  1.3504209e-01 -8.2652754e-01 ...  5.9185467e+00\n",
      "   4.6401515e+00  5.3823233e+00]\n",
      " [ 2.6489525e+00 -9.6214569e-01 -7.7273321e-01 ...  4.7274547e+00\n",
      "   3.8416429e+00  5.5333214e+00]]\n"
     ]
    }
   ],
   "source": [
    "print(extract_features(train['filepath'][24]))\n"
   ]
  },
  {
   "cell_type": "code",
   "execution_count": 69,
   "metadata": {},
   "outputs": [
    {
     "name": "stdout",
     "output_type": "stream",
     "text": [
      "24     [[-546.02295, -464.97708, -445.63998, -495.865...\n",
      "227    [[-622.87915, -622.87915, -622.87915, -622.123...\n",
      "73     [[-640.9671, -646.6486, -638.73047, -629.2242,...\n",
      "248    [[-600.41797, -600.41797, -590.71405, -551.712...\n",
      "52     [[-697.3323, -697.3323, -697.3323, -697.3323, ...\n",
      "                             ...                        \n",
      "197    [[-437.8819, -464.9391, -558.758, -572.0993, -...\n",
      "161    [[-597.7482, -504.89355, -468.78607, -477.7529...\n",
      "244    [[-826.1128, -745.0435, -716.5024, -714.4289, ...\n",
      "360    [[-554.9979, -543.29236, -532.9461, -528.5909,...\n",
      "298    [[-633.24756, -633.24756, -633.24756, -626.226...\n",
      "Name: filepath, Length: 276, dtype: object\n"
     ]
    }
   ],
   "source": [
    "train_features = train['filepath'].apply(extract_features)\n",
    "print(train_features)"
   ]
  },
  {
   "cell_type": "code",
   "execution_count": null,
   "metadata": {},
   "outputs": [],
   "source": []
  }
 ],
 "metadata": {
  "kernelspec": {
   "display_name": "Python 3",
   "language": "python",
   "name": "python3"
  },
  "language_info": {
   "codemirror_mode": {
    "name": "ipython",
    "version": 3
   },
   "file_extension": ".py",
   "mimetype": "text/x-python",
   "name": "python",
   "nbconvert_exporter": "python",
   "pygments_lexer": "ipython3",
   "version": "3.8.6"
  }
 },
 "nbformat": 4,
 "nbformat_minor": 4
}
