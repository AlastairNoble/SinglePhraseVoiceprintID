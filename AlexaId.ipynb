{
 "cells": [
  {
   "cell_type": "code",
   "execution_count": 1,
   "metadata": {},
   "outputs": [],
   "source": [
    "import pandas as pd\n",
    "import numpy as np\n",
    "import os"
   ]
  },
  {
   "cell_type": "code",
   "execution_count": 130,
   "metadata": {},
   "outputs": [],
   "source": [
    "speakers = os.listdir('alexa/')\n",
    "# speakers = speakers[:80] # read somewhere that the number of classes has to be a multiple of 4 "
   ]
  },
  {
   "cell_type": "code",
   "execution_count": 131,
   "metadata": {},
   "outputs": [
    {
     "name": "stdout",
     "output_type": "stream",
     "text": [
      "87\n"
     ]
    },
    {
     "data": {
      "text/html": [
       "<div>\n",
       "<style scoped>\n",
       "    .dataframe tbody tr th:only-of-type {\n",
       "        vertical-align: middle;\n",
       "    }\n",
       "\n",
       "    .dataframe tbody tr th {\n",
       "        vertical-align: top;\n",
       "    }\n",
       "\n",
       "    .dataframe thead th {\n",
       "        text-align: right;\n",
       "    }\n",
       "</style>\n",
       "<table border=\"1\" class=\"dataframe\">\n",
       "  <thead>\n",
       "    <tr style=\"text-align: right;\">\n",
       "      <th></th>\n",
       "      <th>filepath</th>\n",
       "      <th>speaker</th>\n",
       "    </tr>\n",
       "  </thead>\n",
       "  <tbody>\n",
       "    <tr>\n",
       "      <th>0</th>\n",
       "      <td>alexa/anfcucvo/1.wav</td>\n",
       "      <td>anfcucvo</td>\n",
       "    </tr>\n",
       "    <tr>\n",
       "      <th>1</th>\n",
       "      <td>alexa/anfcucvo/2.wav</td>\n",
       "      <td>anfcucvo</td>\n",
       "    </tr>\n",
       "    <tr>\n",
       "      <th>2</th>\n",
       "      <td>alexa/anfcucvo/3.wav</td>\n",
       "      <td>anfcucvo</td>\n",
       "    </tr>\n",
       "    <tr>\n",
       "      <th>3</th>\n",
       "      <td>alexa/anfcucvo/4.wav</td>\n",
       "      <td>anfcucvo</td>\n",
       "    </tr>\n",
       "    <tr>\n",
       "      <th>4</th>\n",
       "      <td>alexa/anfcucvo/5.wav</td>\n",
       "      <td>anfcucvo</td>\n",
       "    </tr>\n",
       "  </tbody>\n",
       "</table>\n",
       "</div>"
      ],
      "text/plain": [
       "               filepath   speaker\n",
       "0  alexa/anfcucvo/1.wav  anfcucvo\n",
       "1  alexa/anfcucvo/2.wav  anfcucvo\n",
       "2  alexa/anfcucvo/3.wav  anfcucvo\n",
       "3  alexa/anfcucvo/4.wav  anfcucvo\n",
       "4  alexa/anfcucvo/5.wav  anfcucvo"
      ]
     },
     "execution_count": 131,
     "metadata": {},
     "output_type": "execute_result"
    }
   ],
   "source": [
    "df = pd.DataFrame(columns=['filepath', 'speaker'])\n",
    "for speaker in speakers:\n",
    "    files = os.listdir('alexa/{}/'.format(speaker))\n",
    "    for file in files:\n",
    "        filepath = 'alexa/{}/{}'.format(speaker, file)\n",
    "        df = df.append({'filepath':filepath, 'speaker':speaker}, ignore_index=True)\n",
    "print(len(speakers))\n",
    "df.head() # this is just a print statement"
   ]
  },
  {
   "cell_type": "code",
   "execution_count": 132,
   "metadata": {},
   "outputs": [],
   "source": [
    "from sklearn.model_selection import train_test_split"
   ]
  },
  {
   "cell_type": "code",
   "execution_count": 188,
   "metadata": {},
   "outputs": [
    {
     "data": {
      "text/html": [
       "<div>\n",
       "<style scoped>\n",
       "    .dataframe tbody tr th:only-of-type {\n",
       "        vertical-align: middle;\n",
       "    }\n",
       "\n",
       "    .dataframe tbody tr th {\n",
       "        vertical-align: top;\n",
       "    }\n",
       "\n",
       "    .dataframe thead th {\n",
       "        text-align: right;\n",
       "    }\n",
       "</style>\n",
       "<table border=\"1\" class=\"dataframe\">\n",
       "  <thead>\n",
       "    <tr style=\"text-align: right;\">\n",
       "      <th></th>\n",
       "      <th>filepath</th>\n",
       "      <th>speaker</th>\n",
       "    </tr>\n",
       "  </thead>\n",
       "  <tbody>\n",
       "    <tr>\n",
       "      <th>283</th>\n",
       "      <td>alexa/uqctddis/1.wav</td>\n",
       "      <td>uqctddis</td>\n",
       "    </tr>\n",
       "    <tr>\n",
       "      <th>81</th>\n",
       "      <td>alexa/fsyeviyq/8.wav</td>\n",
       "      <td>fsyeviyq</td>\n",
       "    </tr>\n",
       "    <tr>\n",
       "      <th>131</th>\n",
       "      <td>alexa/jvvfnxlp/5.wav</td>\n",
       "      <td>jvvfnxlp</td>\n",
       "    </tr>\n",
       "    <tr>\n",
       "      <th>54</th>\n",
       "      <td>alexa/fegormwx/2.wav</td>\n",
       "      <td>fegormwx</td>\n",
       "    </tr>\n",
       "    <tr>\n",
       "      <th>89</th>\n",
       "      <td>alexa/ghmcwtzk/3.wav</td>\n",
       "      <td>ghmcwtzk</td>\n",
       "    </tr>\n",
       "  </tbody>\n",
       "</table>\n",
       "</div>"
      ],
      "text/plain": [
       "                 filepath   speaker\n",
       "283  alexa/uqctddis/1.wav  uqctddis\n",
       "81   alexa/fsyeviyq/8.wav  fsyeviyq\n",
       "131  alexa/jvvfnxlp/5.wav  jvvfnxlp\n",
       "54   alexa/fegormwx/2.wav  fegormwx\n",
       "89   alexa/ghmcwtzk/3.wav  ghmcwtzk"
      ]
     },
     "execution_count": 188,
     "metadata": {},
     "output_type": "execute_result"
    }
   ],
   "source": [
    "train, test = train_test_split(df, test_size = 0.26, stratify = df['speaker'])\n",
    "# the stratify parameter makes the function split data evenly over the speakers column\n",
    "# this is so we dont get all files of the same speaker in the test set and not the training set\n",
    "train.head()"
   ]
  },
  {
   "cell_type": "code",
   "execution_count": 189,
   "metadata": {},
   "outputs": [],
   "source": [
    "import librosa"
   ]
  },
  {
   "cell_type": "code",
   "execution_count": 190,
   "metadata": {},
   "outputs": [],
   "source": [
    "def extract_features(filename):\n",
    "    \n",
    "    X, sample_rate = librosa.load(filename, res_type='kaiser_fast')\n",
    "    \n",
    "    # librosa returns an array of 40 arrays, one for each mfcc\n",
    "    # np.mean takes the mean of each array, so we will be left with an array of size 40\n",
    "    # the n_mfcc=40 parameter means return 40 mfccs\n",
    "    mfccs = np.mean(librosa.feature.mfcc(y=X, sr=sample_rate, n_mfcc=40).T, axis=0)\n",
    "    \n",
    "    # plp = librosa.beat.plp(y=X, sr=22050, onset_envelope=None, hop_length=512, win_length=99, tempo_min=30, tempo_max=300, prior=None)\n",
    "    \n",
    "    return mfccs.tolist()#  + plp.tolist()"
   ]
  },
  {
   "cell_type": "code",
   "execution_count": 191,
   "metadata": {},
   "outputs": [
    {
     "name": "stdout",
     "output_type": "stream",
     "text": [
      "40\n"
     ]
    }
   ],
   "source": [
    "# test out the function on one of the files\n",
    "print(len(extract_features(train['filepath'][77])))"
   ]
  },
  {
   "cell_type": "code",
   "execution_count": 192,
   "metadata": {},
   "outputs": [],
   "source": [
    "# apply the extract features to every element in train and test\n",
    "train_features = train['filepath'].apply(extract_features)\n"
   ]
  },
  {
   "cell_type": "code",
   "execution_count": 193,
   "metadata": {},
   "outputs": [
    {
     "data": {
      "text/plain": [
       "283    [-325.49041748046875, 110.84760284423828, -12....\n",
       "81     [-556.0848388671875, 83.43140411376953, -15.43...\n",
       "131    [-349.3893127441406, 110.5346908569336, -8.676...\n",
       "54     [-444.859375, 108.34062194824219, -51.28759765...\n",
       "89     [-369.7653503417969, 97.99247741699219, -16.91...\n",
       "Name: filepath, dtype: object"
      ]
     },
     "execution_count": 193,
     "metadata": {},
     "output_type": "execute_result"
    }
   ],
   "source": [
    "# train_features is now an array of arrays\n",
    "test_features = test['filepath'].apply(extract_features)\n",
    "train_features.head()"
   ]
  },
  {
   "cell_type": "code",
   "execution_count": 194,
   "metadata": {},
   "outputs": [
    {
     "data": {
      "text/plain": [
       "123    [-642.3672485351562, 104.11151123046875, -9.53...\n",
       "115    [-413.44793701171875, 71.04056549072266, 0.688...\n",
       "202    [-388.9583435058594, 90.2202377319336, -9.0481...\n",
       "185    [-444.04962158203125, 111.02970886230469, -23....\n",
       "106    [-326.7193908691406, 112.73077392578125, -22.1...\n",
       "Name: filepath, dtype: object"
      ]
     },
     "execution_count": 194,
     "metadata": {},
     "output_type": "execute_result"
    }
   ],
   "source": [
    "test_features.head()"
   ]
  },
  {
   "cell_type": "code",
   "execution_count": 195,
   "metadata": {},
   "outputs": [
    {
     "data": {
      "text/plain": [
       "40"
      ]
     },
     "execution_count": 195,
     "metadata": {},
     "output_type": "execute_result"
    }
   ],
   "source": [
    "len(train_features[77])\n",
    "# just an array with 40 elements"
   ]
  },
  {
   "cell_type": "code",
   "execution_count": 196,
   "metadata": {},
   "outputs": [],
   "source": [
    "# split into X and Y where X is the features and Y is the label (name of speaker)\n",
    "# remember that each array is still in the same order as above \n",
    "# so each element in X_train corresponds to an element in Y_train at the same index\n",
    "X_train = train_features.tolist()\n",
    "X_test = test_features.tolist()\n",
    "Y_train = train['speaker'].tolist()\n",
    "Y_test = test['speaker'].tolist()"
   ]
  },
  {
   "cell_type": "code",
   "execution_count": 197,
   "metadata": {},
   "outputs": [
    {
     "name": "stdout",
     "output_type": "stream",
     "text": [
      "Speaker: uqctddis\n",
      "Features: [-325.49041748046875, 110.84760284423828, -12.021147727966309, 29.381074905395508, -15.489127159118652, 17.974807739257812, -6.429633617401123, 7.366815567016602, 5.389136791229248, -1.46623957157135, 8.568319320678711, -3.801391124725342, 0.2132442742586136, -9.337488174438477, 4.982039451599121, -1.8447786569595337, -3.6032490730285645, 0.048032861202955246, -5.138862609863281, -0.9659779667854309, -6.731682300567627, -1.43858003616333, -4.894558906555176, -3.35678768157959, -0.269686222076416, -3.4032187461853027, -1.5623409748077393, -2.1458749771118164, -2.9577226638793945, -4.80684232711792, -2.878754138946533, -2.670773983001709, -4.641262531280518, -5.370326042175293, -4.078849792480469, -4.332222938537598, -4.500255107879639, -3.626905918121338, -4.698450565338135, -2.2406246662139893]: \n"
     ]
    }
   ],
   "source": [
    "# now X_train is a 2d array, and each array is the long array of mfccs\n",
    "print(\"Speaker: {}\".format(Y_train[0]))\n",
    "print(\"Features: {}: \".format(X_train[0]))"
   ]
  },
  {
   "cell_type": "code",
   "execution_count": null,
   "metadata": {},
   "outputs": [],
   "source": []
  },
  {
   "cell_type": "code",
   "execution_count": 198,
   "metadata": {},
   "outputs": [],
   "source": [
    "from sklearn.preprocessing import LabelEncoder\n",
    "from keras.utils.np_utils import to_categorical"
   ]
  },
  {
   "cell_type": "code",
   "execution_count": 199,
   "metadata": {},
   "outputs": [],
   "source": [
    "# hot encode y \n",
    "lb = LabelEncoder()\n",
    "Y_train_encoded = to_categorical(lb.fit_transform(Y_train))\n",
    "Y_test_encoded = to_categorical(lb.fit_transform(Y_test))"
   ]
  },
  {
   "cell_type": "code",
   "execution_count": 200,
   "metadata": {},
   "outputs": [
    {
     "name": "stdout",
     "output_type": "stream",
     "text": [
      "[0. 0. 0. 0. 0. 0. 0. 0. 0. 0. 0. 0. 0. 0. 0. 0. 0. 0. 0. 0. 0. 0. 0. 0.\n",
      " 0. 0. 0. 0. 0. 0. 0. 0. 0. 0. 0. 0. 0. 0. 0. 0. 0. 0. 0. 0. 0. 0. 0. 0.\n",
      " 0. 0. 0. 0. 0. 0. 0. 0. 0. 0. 0. 0. 0. 0. 0. 0. 0. 0. 1. 0. 0. 0. 0. 0.\n",
      " 0. 0. 0. 0. 0. 0. 0. 0. 0. 0. 0. 0. 0. 0. 0.]\n"
     ]
    }
   ],
   "source": [
    "print(Y_train_encoded[0])"
   ]
  },
  {
   "cell_type": "code",
   "execution_count": 201,
   "metadata": {},
   "outputs": [
    {
     "name": "stdout",
     "output_type": "stream",
     "text": [
      "40\n"
     ]
    }
   ],
   "source": [
    "print(len(X_train[1])) # array of 40 elements (mean of mfcc)"
   ]
  },
  {
   "cell_type": "code",
   "execution_count": 202,
   "metadata": {},
   "outputs": [],
   "source": [
    "from sklearn.preprocessing import StandardScaler"
   ]
  },
  {
   "cell_type": "code",
   "execution_count": 203,
   "metadata": {},
   "outputs": [
    {
     "name": "stdout",
     "output_type": "stream",
     "text": [
      "<class 'list'>\n",
      "87\n",
      "87\n"
     ]
    }
   ],
   "source": [
    "print(type(X_train[0]))\n",
    "print(len(Y_train_encoded[0])) # number of unique speakers\n",
    "print(len(Y_test_encoded[0])) # number of unique speakers"
   ]
  },
  {
   "cell_type": "code",
   "execution_count": 204,
   "metadata": {},
   "outputs": [],
   "source": [
    "ss = StandardScaler()\n"
   ]
  },
  {
   "cell_type": "code",
   "execution_count": 205,
   "metadata": {},
   "outputs": [],
   "source": [
    "X_train_scaled = ss.fit_transform(X_train)\n",
    "X_test_scaled = ss.fit_transform(X_test)"
   ]
  },
  {
   "cell_type": "code",
   "execution_count": 206,
   "metadata": {},
   "outputs": [
    {
     "data": {
      "text/plain": [
       "(273, 40)"
      ]
     },
     "execution_count": 206,
     "metadata": {},
     "output_type": "execute_result"
    }
   ],
   "source": [
    "X_train_scaled.shape"
   ]
  },
  {
   "cell_type": "code",
   "execution_count": 207,
   "metadata": {},
   "outputs": [
    {
     "data": {
      "text/plain": [
       "96"
      ]
     },
     "execution_count": 207,
     "metadata": {},
     "output_type": "execute_result"
    }
   ],
   "source": [
    "len(X_test_scaled)"
   ]
  },
  {
   "cell_type": "code",
   "execution_count": 208,
   "metadata": {},
   "outputs": [],
   "source": [
    "from keras.models import Sequential\n",
    "from keras.layers import Dense, Dropout, Activation, Flatten\n",
    "from keras.callbacks import EarlyStopping"
   ]
  },
  {
   "cell_type": "code",
   "execution_count": 209,
   "metadata": {},
   "outputs": [],
   "source": [
    "model = Sequential()\n",
    "\n",
    "model.add(Dense(40, input_shape=(40,), activation = 'relu'))\n",
    "model.add(Dropout(0.01))\n",
    "\n",
    "model.add(Dense(128, activation = 'relu'))\n",
    "model.add(Dropout(0.01))  \n",
    "\n",
    "model.add(Dense(128, activation = 'relu'))\n",
    "model.add(Dropout(0.01))    \n",
    "\n",
    "model.add(Dense(87, activation = 'softmax'))\n",
    "\n",
    "model.compile(loss='categorical_crossentropy', metrics=['accuracy'])"
   ]
  },
  {
   "cell_type": "code",
   "execution_count": 210,
   "metadata": {},
   "outputs": [
    {
     "name": "stdout",
     "output_type": "stream",
     "text": [
      "Epoch 1/100\n",
      "2/2 [==============================] - 0s 61ms/step - loss: 4.5199 - accuracy: 0.0073 - val_loss: 4.3735 - val_accuracy: 0.0417\n",
      "Epoch 2/100\n",
      "2/2 [==============================] - 0s 8ms/step - loss: 4.3423 - accuracy: 0.0366 - val_loss: 4.3013 - val_accuracy: 0.1042\n",
      "Epoch 3/100\n",
      "2/2 [==============================] - 0s 8ms/step - loss: 4.2552 - accuracy: 0.0952 - val_loss: 4.2315 - val_accuracy: 0.1250\n",
      "Epoch 4/100\n",
      "2/2 [==============================] - 0s 8ms/step - loss: 4.1824 - accuracy: 0.1429 - val_loss: 4.1730 - val_accuracy: 0.1458\n",
      "Epoch 5/100\n",
      "2/2 [==============================] - 0s 8ms/step - loss: 4.1010 - accuracy: 0.1795 - val_loss: 4.1111 - val_accuracy: 0.1250\n",
      "Epoch 6/100\n",
      "2/2 [==============================] - 0s 8ms/step - loss: 4.0322 - accuracy: 0.1978 - val_loss: 4.0498 - val_accuracy: 0.1771\n",
      "Epoch 7/100\n",
      "2/2 [==============================] - 0s 8ms/step - loss: 3.9710 - accuracy: 0.1868 - val_loss: 4.0013 - val_accuracy: 0.1667\n",
      "Epoch 8/100\n",
      "2/2 [==============================] - 0s 8ms/step - loss: 3.9011 - accuracy: 0.2271 - val_loss: 3.9479 - val_accuracy: 0.1771\n",
      "Epoch 9/100\n",
      "2/2 [==============================] - 0s 8ms/step - loss: 3.8366 - accuracy: 0.2344 - val_loss: 3.8884 - val_accuracy: 0.1667\n",
      "Epoch 10/100\n",
      "2/2 [==============================] - 0s 8ms/step - loss: 3.7660 - accuracy: 0.2527 - val_loss: 3.8317 - val_accuracy: 0.2083\n",
      "Epoch 11/100\n",
      "2/2 [==============================] - 0s 8ms/step - loss: 3.6982 - accuracy: 0.3187 - val_loss: 3.7658 - val_accuracy: 0.2292\n",
      "Epoch 12/100\n",
      "2/2 [==============================] - 0s 8ms/step - loss: 3.6188 - accuracy: 0.3773 - val_loss: 3.6990 - val_accuracy: 0.2500\n",
      "Epoch 13/100\n",
      "2/2 [==============================] - 0s 8ms/step - loss: 3.5425 - accuracy: 0.3443 - val_loss: 3.6318 - val_accuracy: 0.2500\n",
      "Epoch 14/100\n",
      "2/2 [==============================] - 0s 8ms/step - loss: 3.4718 - accuracy: 0.3333 - val_loss: 3.5587 - val_accuracy: 0.2812\n",
      "Epoch 15/100\n",
      "2/2 [==============================] - 0s 8ms/step - loss: 3.3892 - accuracy: 0.3810 - val_loss: 3.4856 - val_accuracy: 0.3229\n",
      "Epoch 16/100\n",
      "2/2 [==============================] - 0s 8ms/step - loss: 3.3068 - accuracy: 0.4286 - val_loss: 3.4101 - val_accuracy: 0.3438\n",
      "Epoch 17/100\n",
      "2/2 [==============================] - 0s 8ms/step - loss: 3.2288 - accuracy: 0.4615 - val_loss: 3.3391 - val_accuracy: 0.3438\n",
      "Epoch 18/100\n",
      "2/2 [==============================] - 0s 8ms/step - loss: 3.1317 - accuracy: 0.4542 - val_loss: 3.2656 - val_accuracy: 0.3229\n",
      "Epoch 19/100\n",
      "2/2 [==============================] - 0s 8ms/step - loss: 3.0525 - accuracy: 0.4432 - val_loss: 3.1944 - val_accuracy: 0.3646\n",
      "Epoch 20/100\n",
      "2/2 [==============================] - 0s 8ms/step - loss: 2.9664 - accuracy: 0.4799 - val_loss: 3.1242 - val_accuracy: 0.3333\n",
      "Epoch 21/100\n",
      "2/2 [==============================] - 0s 8ms/step - loss: 2.8850 - accuracy: 0.4835 - val_loss: 3.0401 - val_accuracy: 0.3021\n",
      "Epoch 22/100\n",
      "2/2 [==============================] - 0s 8ms/step - loss: 2.7992 - accuracy: 0.4579 - val_loss: 2.9578 - val_accuracy: 0.3750\n",
      "Epoch 23/100\n",
      "2/2 [==============================] - 0s 8ms/step - loss: 2.6945 - accuracy: 0.5018 - val_loss: 2.8758 - val_accuracy: 0.4167\n",
      "Epoch 24/100\n",
      "2/2 [==============================] - 0s 8ms/step - loss: 2.6154 - accuracy: 0.5678 - val_loss: 2.8078 - val_accuracy: 0.4583\n",
      "Epoch 25/100\n",
      "2/2 [==============================] - 0s 8ms/step - loss: 2.5313 - accuracy: 0.5714 - val_loss: 2.7438 - val_accuracy: 0.4479\n",
      "Epoch 26/100\n",
      "2/2 [==============================] - 0s 8ms/step - loss: 2.4377 - accuracy: 0.6007 - val_loss: 2.6684 - val_accuracy: 0.4479\n",
      "Epoch 27/100\n",
      "2/2 [==============================] - 0s 8ms/step - loss: 2.3623 - accuracy: 0.5934 - val_loss: 2.5909 - val_accuracy: 0.4792\n",
      "Epoch 28/100\n",
      "2/2 [==============================] - 0s 8ms/step - loss: 2.2756 - accuracy: 0.6117 - val_loss: 2.5084 - val_accuracy: 0.5208\n",
      "Epoch 29/100\n",
      "2/2 [==============================] - 0s 8ms/step - loss: 2.1816 - accuracy: 0.6484 - val_loss: 2.4445 - val_accuracy: 0.5521\n",
      "Epoch 30/100\n",
      "2/2 [==============================] - 0s 8ms/step - loss: 2.0690 - accuracy: 0.7070 - val_loss: 2.3736 - val_accuracy: 0.5312\n",
      "Epoch 31/100\n",
      "2/2 [==============================] - 0s 8ms/step - loss: 2.0186 - accuracy: 0.7216 - val_loss: 2.3181 - val_accuracy: 0.4896\n",
      "Epoch 32/100\n",
      "2/2 [==============================] - 0s 8ms/step - loss: 1.9483 - accuracy: 0.7216 - val_loss: 2.2564 - val_accuracy: 0.5625\n",
      "Epoch 33/100\n",
      "2/2 [==============================] - 0s 8ms/step - loss: 1.8868 - accuracy: 0.6996 - val_loss: 2.1942 - val_accuracy: 0.5521\n",
      "Epoch 34/100\n",
      "2/2 [==============================] - 0s 8ms/step - loss: 1.7809 - accuracy: 0.7399 - val_loss: 2.1236 - val_accuracy: 0.5833\n",
      "Epoch 35/100\n",
      "2/2 [==============================] - 0s 8ms/step - loss: 1.7129 - accuracy: 0.7399 - val_loss: 2.0767 - val_accuracy: 0.5625\n",
      "Epoch 36/100\n",
      "2/2 [==============================] - 0s 8ms/step - loss: 1.6405 - accuracy: 0.7729 - val_loss: 2.0070 - val_accuracy: 0.6354\n",
      "Epoch 37/100\n",
      "2/2 [==============================] - 0s 8ms/step - loss: 1.5584 - accuracy: 0.8168 - val_loss: 1.9308 - val_accuracy: 0.6875\n",
      "Epoch 38/100\n",
      "2/2 [==============================] - 0s 8ms/step - loss: 1.4962 - accuracy: 0.8425 - val_loss: 1.8696 - val_accuracy: 0.6771\n",
      "Epoch 39/100\n",
      "2/2 [==============================] - 0s 8ms/step - loss: 1.4369 - accuracy: 0.8425 - val_loss: 1.8239 - val_accuracy: 0.6979\n",
      "Epoch 40/100\n",
      "2/2 [==============================] - 0s 8ms/step - loss: 1.3803 - accuracy: 0.8095 - val_loss: 1.7783 - val_accuracy: 0.7083\n",
      "Epoch 41/100\n",
      "2/2 [==============================] - 0s 8ms/step - loss: 1.3325 - accuracy: 0.8388 - val_loss: 1.7202 - val_accuracy: 0.6979\n",
      "Epoch 42/100\n",
      "2/2 [==============================] - 0s 8ms/step - loss: 1.2441 - accuracy: 0.8571 - val_loss: 1.6665 - val_accuracy: 0.7083\n",
      "Epoch 43/100\n",
      "2/2 [==============================] - 0s 8ms/step - loss: 1.1901 - accuracy: 0.8718 - val_loss: 1.6110 - val_accuracy: 0.7396\n",
      "Epoch 44/100\n",
      "2/2 [==============================] - 0s 8ms/step - loss: 1.1313 - accuracy: 0.8828 - val_loss: 1.5851 - val_accuracy: 0.7500\n",
      "Epoch 45/100\n",
      "2/2 [==============================] - 0s 8ms/step - loss: 1.1176 - accuracy: 0.8681 - val_loss: 1.5394 - val_accuracy: 0.7083\n",
      "Epoch 46/100\n",
      "2/2 [==============================] - 0s 8ms/step - loss: 1.0605 - accuracy: 0.8681 - val_loss: 1.4976 - val_accuracy: 0.6979\n",
      "Epoch 47/100\n",
      "2/2 [==============================] - 0s 9ms/step - loss: 1.0165 - accuracy: 0.8755 - val_loss: 1.4539 - val_accuracy: 0.7292\n",
      "Epoch 48/100\n",
      "2/2 [==============================] - 0s 8ms/step - loss: 0.9680 - accuracy: 0.8864 - val_loss: 1.4190 - val_accuracy: 0.7396\n",
      "Epoch 49/100\n",
      "2/2 [==============================] - 0s 8ms/step - loss: 0.9167 - accuracy: 0.9048 - val_loss: 1.3944 - val_accuracy: 0.7292\n",
      "Epoch 50/100\n",
      "2/2 [==============================] - 0s 8ms/step - loss: 0.9057 - accuracy: 0.8974 - val_loss: 1.3652 - val_accuracy: 0.7083\n",
      "Epoch 51/100\n",
      "2/2 [==============================] - 0s 8ms/step - loss: 0.8306 - accuracy: 0.9158 - val_loss: 1.3150 - val_accuracy: 0.7604\n",
      "Epoch 52/100\n",
      "2/2 [==============================] - 0s 8ms/step - loss: 0.7779 - accuracy: 0.9341 - val_loss: 1.3420 - val_accuracy: 0.6979\n",
      "Epoch 53/100\n",
      "2/2 [==============================] - 0s 8ms/step - loss: 0.7958 - accuracy: 0.9158 - val_loss: 1.2656 - val_accuracy: 0.7396\n",
      "Epoch 54/100\n",
      "2/2 [==============================] - 0s 8ms/step - loss: 0.7596 - accuracy: 0.9158 - val_loss: 1.2210 - val_accuracy: 0.7292\n",
      "Epoch 55/100\n",
      "2/2 [==============================] - 0s 9ms/step - loss: 0.6954 - accuracy: 0.9451 - val_loss: 1.1971 - val_accuracy: 0.7500\n",
      "Epoch 56/100\n",
      "2/2 [==============================] - 0s 8ms/step - loss: 0.6594 - accuracy: 0.9560 - val_loss: 1.1349 - val_accuracy: 0.7812\n",
      "Epoch 57/100\n",
      "2/2 [==============================] - 0s 8ms/step - loss: 0.6367 - accuracy: 0.9377 - val_loss: 1.1165 - val_accuracy: 0.7812\n",
      "Epoch 58/100\n",
      "2/2 [==============================] - 0s 10ms/step - loss: 0.5990 - accuracy: 0.9487 - val_loss: 1.0930 - val_accuracy: 0.7708\n",
      "Epoch 59/100\n"
     ]
    },
    {
     "name": "stdout",
     "output_type": "stream",
     "text": [
      "2/2 [==============================] - 0s 8ms/step - loss: 0.5833 - accuracy: 0.9560 - val_loss: 1.0566 - val_accuracy: 0.7917\n",
      "Epoch 60/100\n",
      "2/2 [==============================] - 0s 8ms/step - loss: 0.5345 - accuracy: 0.9560 - val_loss: 1.0596 - val_accuracy: 0.7917\n",
      "Epoch 61/100\n",
      "2/2 [==============================] - 0s 8ms/step - loss: 0.5321 - accuracy: 0.9597 - val_loss: 1.0291 - val_accuracy: 0.7708\n",
      "Epoch 62/100\n",
      "2/2 [==============================] - 0s 8ms/step - loss: 0.4924 - accuracy: 0.9487 - val_loss: 0.9863 - val_accuracy: 0.8333\n",
      "Epoch 63/100\n",
      "2/2 [==============================] - 0s 8ms/step - loss: 0.4900 - accuracy: 0.9560 - val_loss: 0.9600 - val_accuracy: 0.8021\n",
      "Epoch 64/100\n",
      "2/2 [==============================] - 0s 8ms/step - loss: 0.4389 - accuracy: 0.9597 - val_loss: 0.9403 - val_accuracy: 0.8125\n",
      "Epoch 65/100\n",
      "2/2 [==============================] - 0s 8ms/step - loss: 0.4147 - accuracy: 0.9707 - val_loss: 0.9541 - val_accuracy: 0.8125\n",
      "Epoch 66/100\n",
      "2/2 [==============================] - 0s 8ms/step - loss: 0.4256 - accuracy: 0.9487 - val_loss: 0.9323 - val_accuracy: 0.7812\n",
      "Epoch 67/100\n",
      "2/2 [==============================] - 0s 8ms/step - loss: 0.4134 - accuracy: 0.9744 - val_loss: 0.9347 - val_accuracy: 0.7604\n",
      "Epoch 68/100\n",
      "2/2 [==============================] - 0s 8ms/step - loss: 0.3965 - accuracy: 0.9487 - val_loss: 0.8996 - val_accuracy: 0.8021\n",
      "Epoch 69/100\n",
      "2/2 [==============================] - 0s 9ms/step - loss: 0.3644 - accuracy: 0.9560 - val_loss: 0.8742 - val_accuracy: 0.8125\n",
      "Epoch 70/100\n",
      "2/2 [==============================] - 0s 8ms/step - loss: 0.3666 - accuracy: 0.9634 - val_loss: 0.8523 - val_accuracy: 0.7812\n",
      "Epoch 71/100\n",
      "2/2 [==============================] - 0s 8ms/step - loss: 0.3357 - accuracy: 0.9634 - val_loss: 0.8094 - val_accuracy: 0.8438\n",
      "Epoch 72/100\n",
      "2/2 [==============================] - 0s 8ms/step - loss: 0.3135 - accuracy: 0.9817 - val_loss: 0.8268 - val_accuracy: 0.8333\n",
      "Epoch 73/100\n",
      "2/2 [==============================] - 0s 8ms/step - loss: 0.3032 - accuracy: 0.9817 - val_loss: 0.7777 - val_accuracy: 0.8750\n",
      "Epoch 74/100\n",
      "2/2 [==============================] - 0s 8ms/step - loss: 0.2802 - accuracy: 0.9853 - val_loss: 0.7945 - val_accuracy: 0.8333\n",
      "Epoch 75/100\n",
      "2/2 [==============================] - 0s 8ms/step - loss: 0.2698 - accuracy: 0.9744 - val_loss: 0.8159 - val_accuracy: 0.8438\n",
      "Epoch 76/100\n",
      "2/2 [==============================] - 0s 8ms/step - loss: 0.2540 - accuracy: 0.9853 - val_loss: 0.7735 - val_accuracy: 0.8125\n",
      "Epoch 77/100\n",
      "2/2 [==============================] - 0s 8ms/step - loss: 0.2488 - accuracy: 0.9817 - val_loss: 0.7587 - val_accuracy: 0.7917\n",
      "Epoch 78/100\n",
      "2/2 [==============================] - 0s 8ms/step - loss: 0.2770 - accuracy: 0.9744 - val_loss: 0.7500 - val_accuracy: 0.8333\n",
      "Epoch 79/100\n",
      "2/2 [==============================] - 0s 8ms/step - loss: 0.2509 - accuracy: 0.9780 - val_loss: 0.7684 - val_accuracy: 0.7917\n",
      "Epoch 80/100\n",
      "2/2 [==============================] - 0s 8ms/step - loss: 0.2274 - accuracy: 0.9817 - val_loss: 0.7340 - val_accuracy: 0.8333\n",
      "Epoch 81/100\n",
      "2/2 [==============================] - 0s 8ms/step - loss: 0.2209 - accuracy: 0.9817 - val_loss: 0.6985 - val_accuracy: 0.8333\n",
      "Epoch 82/100\n",
      "2/2 [==============================] - 0s 8ms/step - loss: 0.1913 - accuracy: 0.9963 - val_loss: 0.7289 - val_accuracy: 0.8125\n",
      "Epoch 83/100\n",
      "2/2 [==============================] - 0s 8ms/step - loss: 0.2015 - accuracy: 0.9927 - val_loss: 0.7432 - val_accuracy: 0.8021\n",
      "Epoch 84/100\n",
      "2/2 [==============================] - 0s 8ms/step - loss: 0.1794 - accuracy: 0.9817 - val_loss: 0.6932 - val_accuracy: 0.8333\n",
      "Epoch 85/100\n",
      "2/2 [==============================] - 0s 7ms/step - loss: 0.1816 - accuracy: 0.9927 - val_loss: 0.6661 - val_accuracy: 0.8542\n",
      "Epoch 86/100\n",
      "2/2 [==============================] - 0s 8ms/step - loss: 0.1491 - accuracy: 1.0000 - val_loss: 0.6376 - val_accuracy: 0.8750\n",
      "Epoch 87/100\n",
      "2/2 [==============================] - 0s 8ms/step - loss: 0.1532 - accuracy: 0.9927 - val_loss: 0.6165 - val_accuracy: 0.8542\n",
      "Epoch 88/100\n",
      "2/2 [==============================] - 0s 7ms/step - loss: 0.1554 - accuracy: 0.9927 - val_loss: 0.6386 - val_accuracy: 0.8542\n",
      "Epoch 89/100\n",
      "2/2 [==============================] - 0s 8ms/step - loss: 0.1442 - accuracy: 0.9963 - val_loss: 0.6448 - val_accuracy: 0.8438\n",
      "Epoch 90/100\n",
      "2/2 [==============================] - 0s 7ms/step - loss: 0.1485 - accuracy: 0.9890 - val_loss: 0.6423 - val_accuracy: 0.8438\n",
      "Epoch 91/100\n",
      "2/2 [==============================] - 0s 8ms/step - loss: 0.1415 - accuracy: 0.9927 - val_loss: 0.6373 - val_accuracy: 0.8542\n",
      "Epoch 92/100\n",
      "2/2 [==============================] - 0s 8ms/step - loss: 0.1232 - accuracy: 0.9963 - val_loss: 0.6383 - val_accuracy: 0.8542\n",
      "Epoch 93/100\n",
      "2/2 [==============================] - 0s 8ms/step - loss: 0.1168 - accuracy: 1.0000 - val_loss: 0.6280 - val_accuracy: 0.8438\n",
      "Epoch 94/100\n",
      "2/2 [==============================] - 0s 8ms/step - loss: 0.1151 - accuracy: 0.9963 - val_loss: 0.6031 - val_accuracy: 0.8646\n",
      "Epoch 95/100\n",
      "2/2 [==============================] - 0s 8ms/step - loss: 0.1114 - accuracy: 0.9927 - val_loss: 0.6262 - val_accuracy: 0.8333\n",
      "Epoch 96/100\n",
      "2/2 [==============================] - 0s 8ms/step - loss: 0.1081 - accuracy: 0.9927 - val_loss: 0.5951 - val_accuracy: 0.8542\n",
      "Epoch 97/100\n",
      "2/2 [==============================] - 0s 8ms/step - loss: 0.0940 - accuracy: 1.0000 - val_loss: 0.6121 - val_accuracy: 0.8438\n",
      "Epoch 98/100\n",
      "2/2 [==============================] - 0s 8ms/step - loss: 0.1028 - accuracy: 0.9927 - val_loss: 0.6583 - val_accuracy: 0.7917\n",
      "Epoch 99/100\n",
      "2/2 [==============================] - 0s 8ms/step - loss: 0.1147 - accuracy: 0.9963 - val_loss: 0.6018 - val_accuracy: 0.8438\n",
      "Epoch 100/100\n",
      "2/2 [==============================] - 0s 8ms/step - loss: 0.0919 - accuracy: 0.9927 - val_loss: 0.5806 - val_accuracy: 0.8542\n"
     ]
    }
   ],
   "source": [
    "history = model.fit(X_train_scaled, Y_train_encoded, batch_size=256, epochs=100, validation_data=(X_test_scaled, Y_test_encoded))"
   ]
  },
  {
   "cell_type": "code",
   "execution_count": null,
   "metadata": {},
   "outputs": [],
   "source": []
  },
  {
   "cell_type": "code",
   "execution_count": null,
   "metadata": {},
   "outputs": [],
   "source": []
  },
  {
   "cell_type": "code",
   "execution_count": null,
   "metadata": {},
   "outputs": [],
   "source": []
  }
 ],
 "metadata": {
  "kernelspec": {
   "display_name": "Python 3",
   "language": "python",
   "name": "python3"
  },
  "language_info": {
   "codemirror_mode": {
    "name": "ipython",
    "version": 3
   },
   "file_extension": ".py",
   "mimetype": "text/x-python",
   "name": "python",
   "nbconvert_exporter": "python",
   "pygments_lexer": "ipython3",
   "version": "3.8.7"
  }
 },
 "nbformat": 4,
 "nbformat_minor": 4
}
