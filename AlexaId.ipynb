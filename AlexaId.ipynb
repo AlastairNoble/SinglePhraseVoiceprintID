{
 "cells": [
  {
   "cell_type": "code",
   "execution_count": 86,
   "metadata": {},
   "outputs": [],
   "source": [
    "import pandas as pd\n",
    "import numpy as np\n",
    "import os"
   ]
  },
  {
   "cell_type": "code",
   "execution_count": 87,
   "metadata": {},
   "outputs": [],
   "source": [
    "speakers = os.listdir('alexa/')"
   ]
  },
  {
   "cell_type": "code",
   "execution_count": 88,
   "metadata": {},
   "outputs": [
    {
     "name": "stdout",
     "output_type": "stream",
     "text": [
      "87\n"
     ]
    },
    {
     "data": {
      "text/html": [
       "<div>\n",
       "<style scoped>\n",
       "    .dataframe tbody tr th:only-of-type {\n",
       "        vertical-align: middle;\n",
       "    }\n",
       "\n",
       "    .dataframe tbody tr th {\n",
       "        vertical-align: top;\n",
       "    }\n",
       "\n",
       "    .dataframe thead th {\n",
       "        text-align: right;\n",
       "    }\n",
       "</style>\n",
       "<table border=\"1\" class=\"dataframe\">\n",
       "  <thead>\n",
       "    <tr style=\"text-align: right;\">\n",
       "      <th></th>\n",
       "      <th>filepath</th>\n",
       "      <th>speaker</th>\n",
       "    </tr>\n",
       "  </thead>\n",
       "  <tbody>\n",
       "    <tr>\n",
       "      <th>0</th>\n",
       "      <td>alexa/alastair/1.wav</td>\n",
       "      <td>alastair</td>\n",
       "    </tr>\n",
       "    <tr>\n",
       "      <th>1</th>\n",
       "      <td>alexa/alastair/2.wav</td>\n",
       "      <td>alastair</td>\n",
       "    </tr>\n",
       "    <tr>\n",
       "      <th>2</th>\n",
       "      <td>alexa/alastair/3.wav</td>\n",
       "      <td>alastair</td>\n",
       "    </tr>\n",
       "    <tr>\n",
       "      <th>3</th>\n",
       "      <td>alexa/alastair/5.wav</td>\n",
       "      <td>alastair</td>\n",
       "    </tr>\n",
       "    <tr>\n",
       "      <th>4</th>\n",
       "      <td>alexa/anfcucvo/1.wav</td>\n",
       "      <td>anfcucvo</td>\n",
       "    </tr>\n",
       "  </tbody>\n",
       "</table>\n",
       "</div>"
      ],
      "text/plain": [
       "               filepath   speaker\n",
       "0  alexa/alastair/1.wav  alastair\n",
       "1  alexa/alastair/2.wav  alastair\n",
       "2  alexa/alastair/3.wav  alastair\n",
       "3  alexa/alastair/5.wav  alastair\n",
       "4  alexa/anfcucvo/1.wav  anfcucvo"
      ]
     },
     "execution_count": 88,
     "metadata": {},
     "output_type": "execute_result"
    }
   ],
   "source": [
    "df = pd.DataFrame(columns=['filepath', 'speaker'])\n",
    "for speaker in speakers:\n",
    "    files = os.listdir('alexa/{}/'.format(speaker))\n",
    "    for file in files:\n",
    "        filepath = 'alexa/{}/{}'.format(speaker, file)\n",
    "        df = df.append({'filepath':filepath, 'speaker':speaker}, ignore_index=True)\n",
    "print(len(speakers))\n",
    "df.head() # this is just a print statement"
   ]
  },
  {
   "cell_type": "code",
   "execution_count": 89,
   "metadata": {},
   "outputs": [],
   "source": [
    "from sklearn.model_selection import train_test_split"
   ]
  },
  {
   "cell_type": "code",
   "execution_count": 137,
   "metadata": {},
   "outputs": [
    {
     "data": {
      "text/html": [
       "<div>\n",
       "<style scoped>\n",
       "    .dataframe tbody tr th:only-of-type {\n",
       "        vertical-align: middle;\n",
       "    }\n",
       "\n",
       "    .dataframe tbody tr th {\n",
       "        vertical-align: top;\n",
       "    }\n",
       "\n",
       "    .dataframe thead th {\n",
       "        text-align: right;\n",
       "    }\n",
       "</style>\n",
       "<table border=\"1\" class=\"dataframe\">\n",
       "  <thead>\n",
       "    <tr style=\"text-align: right;\">\n",
       "      <th></th>\n",
       "      <th>filepath</th>\n",
       "      <th>speaker</th>\n",
       "    </tr>\n",
       "  </thead>\n",
       "  <tbody>\n",
       "    <tr>\n",
       "      <th>4</th>\n",
       "      <td>alexa/anfcucvo/1.wav</td>\n",
       "      <td>anfcucvo</td>\n",
       "    </tr>\n",
       "    <tr>\n",
       "      <th>225</th>\n",
       "      <td>alexa/onnnswlx/1.wav</td>\n",
       "      <td>onnnswlx</td>\n",
       "    </tr>\n",
       "    <tr>\n",
       "      <th>359</th>\n",
       "      <td>alexa/zgmrhuwb/3.wav</td>\n",
       "      <td>zgmrhuwb</td>\n",
       "    </tr>\n",
       "    <tr>\n",
       "      <th>260</th>\n",
       "      <td>alexa/tiurjmpp/2.wav</td>\n",
       "      <td>tiurjmpp</td>\n",
       "    </tr>\n",
       "    <tr>\n",
       "      <th>348</th>\n",
       "      <td>alexa/xpzqxqrd/4.wav</td>\n",
       "      <td>xpzqxqrd</td>\n",
       "    </tr>\n",
       "  </tbody>\n",
       "</table>\n",
       "</div>"
      ],
      "text/plain": [
       "                 filepath   speaker\n",
       "4    alexa/anfcucvo/1.wav  anfcucvo\n",
       "225  alexa/onnnswlx/1.wav  onnnswlx\n",
       "359  alexa/zgmrhuwb/3.wav  zgmrhuwb\n",
       "260  alexa/tiurjmpp/2.wav  tiurjmpp\n",
       "348  alexa/xpzqxqrd/4.wav  xpzqxqrd"
      ]
     },
     "execution_count": 137,
     "metadata": {},
     "output_type": "execute_result"
    }
   ],
   "source": [
    "train, test = train_test_split(df, test_size = 0.29, stratify = df['speaker'])\n",
    "# the stratify parameter makes the function split data evenly over the speakers column\n",
    "# this is so we dont get all files of the same speaker in the test set and not the training set\n",
    "train.head()"
   ]
  },
  {
   "cell_type": "code",
   "execution_count": 138,
   "metadata": {},
   "outputs": [],
   "source": [
    "import librosa"
   ]
  },
  {
   "cell_type": "code",
   "execution_count": 139,
   "metadata": {},
   "outputs": [],
   "source": [
    "def extract_features(filename):\n",
    "    \n",
    "    X, sample_rate = librosa.load(filename, res_type='kaiser_fast')\n",
    "    \n",
    "    # librosa returns an array of 40 arrays, one for each mfcc\n",
    "    # np.mean takes the mean of each array, so we will be left with an array of size 40\n",
    "    # the n_mfcc=40 parameter means return 40 mfccs\n",
    "    mfccs = np.mean(librosa.feature.mfcc(y=X, sr=sample_rate, n_mfcc=40).T, axis=0)\n",
    "    \n",
    "    # plp = librosa.beat.plp(y=X, sr=22050, onset_envelope=None, hop_length=512, win_length=99, tempo_min=30, tempo_max=300, prior=None)\n",
    "    \n",
    "    return mfccs.tolist()#  + plp.tolist()"
   ]
  },
  {
   "cell_type": "code",
   "execution_count": 140,
   "metadata": {},
   "outputs": [],
   "source": [
    "# test out the function on one of the files\n",
    "# print(len(extract_features(train['filepath'][37])))"
   ]
  },
  {
   "cell_type": "code",
   "execution_count": 141,
   "metadata": {},
   "outputs": [],
   "source": [
    "# apply the extract features to every element in train and test\n",
    "train_features = train['filepath'].apply(extract_features)"
   ]
  },
  {
   "cell_type": "code",
   "execution_count": 142,
   "metadata": {},
   "outputs": [
    {
     "data": {
      "text/plain": [
       "4      [-451.0007019042969, 129.68942260742188, -10.4...\n",
       "225    [-425.0965576171875, 89.916015625, -7.29105377...\n",
       "359    [-514.9548950195312, 133.59536743164062, -34.7...\n",
       "260    [-334.6752014160156, 131.853515625, -24.814403...\n",
       "348    [-446.0290222167969, 89.11070251464844, -16.11...\n",
       "Name: filepath, dtype: object"
      ]
     },
     "execution_count": 142,
     "metadata": {},
     "output_type": "execute_result"
    }
   ],
   "source": [
    "# train_features is now an array of arrays\n",
    "test_features = test['filepath'].apply(extract_features)\n",
    "train_features.head()"
   ]
  },
  {
   "cell_type": "code",
   "execution_count": 144,
   "metadata": {},
   "outputs": [],
   "source": [
    "# len(train_features[37])\n",
    "# just an array with 40 elements"
   ]
  },
  {
   "cell_type": "code",
   "execution_count": 145,
   "metadata": {},
   "outputs": [],
   "source": [
    "# split into X and Y where X is the features and Y is the label (name of speaker)\n",
    "# remember that each array is still in the same order as above \n",
    "# so each element in X_train corresponds to an element in Y_train at the same index\n",
    "X_train = train_features.tolist()\n",
    "X_test = test_features.tolist()\n",
    "Y_train = train['speaker'].tolist()\n",
    "Y_test = test['speaker'].tolist()"
   ]
  },
  {
   "cell_type": "code",
   "execution_count": null,
   "metadata": {},
   "outputs": [],
   "source": []
  },
  {
   "cell_type": "code",
   "execution_count": 146,
   "metadata": {},
   "outputs": [
    {
     "name": "stdout",
     "output_type": "stream",
     "text": [
      "Speaker: anfcucvo\n",
      "Features: [-451.0007019042969, 129.68942260742188, -10.475382804870605, 13.48437213897705, -22.18383026123047, 13.31363296508789, 2.3849048614501953, 7.671524524688721, 2.464989423751831, 1.4831621646881104, 12.884814262390137, -2.120051145553589, 4.12436580657959, -1.3452571630477905, 2.779601812362671, 0.5196439623832703, 1.7318799495697021, 0.8280112743377686, -7.266208648681641, 2.65681791305542, -1.4635851383209229, -3.649433135986328, 0.9350355267524719, -1.1745051145553589, -1.3960975408554077, -1.873644471168518, -2.640820026397705, -2.5397894382476807, -3.0769588947296143, -0.5750591158866882, -0.9709802865982056, -0.4318140745162964, -1.121940016746521, -4.129611968994141, -3.1608803272247314, -3.086773633956909, 0.12607285380363464, -1.4484682083129883, -0.6509028673171997, -2.0082321166992188]: \n"
     ]
    }
   ],
   "source": [
    "# now X_train is a 2d array, and each array is the long array of mfccs\n",
    "print(\"Speaker: {}\".format(Y_train[0]))\n",
    "print(\"Features: {}: \".format(X_train[0]))"
   ]
  },
  {
   "cell_type": "code",
   "execution_count": null,
   "metadata": {},
   "outputs": [],
   "source": []
  },
  {
   "cell_type": "code",
   "execution_count": 147,
   "metadata": {},
   "outputs": [],
   "source": [
    "from sklearn.preprocessing import LabelEncoder\n",
    "from keras.utils.np_utils import to_categorical"
   ]
  },
  {
   "cell_type": "code",
   "execution_count": 148,
   "metadata": {},
   "outputs": [],
   "source": [
    "# hot encode y \n",
    "lb = LabelEncoder()\n",
    "\n",
    "Y_train_encoded = to_categorical(lb.fit_transform(Y_train))\n",
    "Y_test_encoded = to_categorical(lb.fit_transform(Y_test))"
   ]
  },
  {
   "cell_type": "code",
   "execution_count": 179,
   "metadata": {},
   "outputs": [
    {
     "name": "stdout",
     "output_type": "stream",
     "text": [
      "label: kxrnhrcj\n",
      "encoded label: [0. 0. 0. 0. 0. 0. 0. 0. 0. 0. 0. 1. 0. 0. 0. 0. 0. 0. 0. 0. 0. 0. 0. 0.\n",
      " 0. 0. 0. 0. 0. 0. 0. 0. 0. 0. 0. 0. 0. 0. 0. 0. 0. 0. 0. 0. 0. 0. 0. 0.\n",
      " 0. 0. 0. 0. 0. 0. 0. 0. 0. 0. 0. 0. 0. 0. 0. 0. 0. 0. 0. 0. 0. 0. 0. 0.\n",
      " 0. 0. 0. 0. 0. 0. 0. 0. 0. 0. 0. 0. 0. 0. 0.]\n"
     ]
    }
   ],
   "source": [
    "print(\"label: \" + str(Y_train[44]))\n",
    "print(\"encoded label: \" + str(Y_test_encoded[35]))\n"
   ]
  },
  {
   "cell_type": "code",
   "execution_count": 162,
   "metadata": {},
   "outputs": [],
   "source": [
    "from sklearn.preprocessing import StandardScaler"
   ]
  },
  {
   "cell_type": "code",
   "execution_count": 163,
   "metadata": {},
   "outputs": [
    {
     "name": "stdout",
     "output_type": "stream",
     "text": [
      "87\n",
      "87\n"
     ]
    }
   ],
   "source": [
    "print(len(Y_train_encoded[0])) # number of unique speakers\n",
    "print(len(Y_test_encoded[0])) # number of unique speakers\n",
    "# THESE NEED TO BE THE SAME OR THERE WILL BE AN ERROR. if they are different then increase test_size in the train_test_split line above"
   ]
  },
  {
   "cell_type": "code",
   "execution_count": 165,
   "metadata": {},
   "outputs": [],
   "source": [
    "ss = StandardScaler()\n",
    "\n",
    "X_train_scaled = ss.fit_transform(X_train)\n",
    "X_test_scaled = ss.fit_transform(X_test)"
   ]
  },
  {
   "cell_type": "code",
   "execution_count": 166,
   "metadata": {},
   "outputs": [
    {
     "data": {
      "text/plain": [
       "(261, 40)"
      ]
     },
     "execution_count": 166,
     "metadata": {},
     "output_type": "execute_result"
    }
   ],
   "source": [
    "X_train_scaled.shape"
   ]
  },
  {
   "cell_type": "code",
   "execution_count": 168,
   "metadata": {},
   "outputs": [],
   "source": [
    "from keras.models import Sequential\n",
    "from keras.layers import Dense, Dropout, Activation, Flatten\n",
    "from keras.callbacks import EarlyStopping"
   ]
  },
  {
   "cell_type": "code",
   "execution_count": 172,
   "metadata": {},
   "outputs": [],
   "source": [
    "model = Sequential()\n",
    "\n",
    "model.add(Dense(40, input_shape=(40,), activation = 'relu'))\n",
    "model.add(Dropout(0.01))\n",
    "\n",
    "model.add(Dense(128, activation = 'relu'))\n",
    "model.add(Dropout(0.01))  \n",
    "\n",
    "model.add(Dense(128, activation = 'relu'))\n",
    "model.add(Dropout(0.01))    \n",
    "\n",
    "model.add(Dense(len(Y_train_encoded[0]), activation = 'softmax'))\n",
    "\n",
    "model.compile(loss='categorical_crossentropy', metrics=['accuracy'])"
   ]
  },
  {
   "cell_type": "code",
   "execution_count": 173,
   "metadata": {},
   "outputs": [
    {
     "name": "stdout",
     "output_type": "stream",
     "text": [
      "Epoch 1/100\n",
      "2/2 [==============================] - 0s 61ms/step - loss: 4.5172 - accuracy: 0.0038 - val_loss: 4.3616 - val_accuracy: 0.0185\n",
      "Epoch 2/100\n",
      "2/2 [==============================] - 0s 8ms/step - loss: 4.3490 - accuracy: 0.0268 - val_loss: 4.2958 - val_accuracy: 0.0463\n",
      "Epoch 3/100\n",
      "2/2 [==============================] - 0s 8ms/step - loss: 4.2768 - accuracy: 0.0651 - val_loss: 4.2545 - val_accuracy: 0.0556\n",
      "Epoch 4/100\n",
      "2/2 [==============================] - 0s 8ms/step - loss: 4.2220 - accuracy: 0.0728 - val_loss: 4.1944 - val_accuracy: 0.1019\n",
      "Epoch 5/100\n",
      "2/2 [==============================] - 0s 8ms/step - loss: 4.1633 - accuracy: 0.1341 - val_loss: 4.1514 - val_accuracy: 0.1574\n",
      "Epoch 6/100\n",
      "2/2 [==============================] - 0s 8ms/step - loss: 4.0997 - accuracy: 0.1533 - val_loss: 4.1116 - val_accuracy: 0.1759\n",
      "Epoch 7/100\n",
      "2/2 [==============================] - 0s 8ms/step - loss: 4.0479 - accuracy: 0.1954 - val_loss: 4.0693 - val_accuracy: 0.1759\n",
      "Epoch 8/100\n",
      "2/2 [==============================] - 0s 8ms/step - loss: 4.0033 - accuracy: 0.1801 - val_loss: 4.0203 - val_accuracy: 0.2315\n",
      "Epoch 9/100\n",
      "2/2 [==============================] - 0s 8ms/step - loss: 3.9442 - accuracy: 0.2222 - val_loss: 3.9834 - val_accuracy: 0.2500\n",
      "Epoch 10/100\n",
      "2/2 [==============================] - 0s 8ms/step - loss: 3.8893 - accuracy: 0.2567 - val_loss: 3.9240 - val_accuracy: 0.2315\n",
      "Epoch 11/100\n",
      "2/2 [==============================] - ETA: 0s - loss: 3.8363 - accuracy: 0.21 - 0s 8ms/step - loss: 3.8290 - accuracy: 0.2184 - val_loss: 3.8951 - val_accuracy: 0.2222\n",
      "Epoch 12/100\n",
      "2/2 [==============================] - 0s 8ms/step - loss: 3.7862 - accuracy: 0.2031 - val_loss: 3.8530 - val_accuracy: 0.2407\n",
      "Epoch 13/100\n",
      "2/2 [==============================] - 0s 8ms/step - loss: 3.7319 - accuracy: 0.2567 - val_loss: 3.8128 - val_accuracy: 0.2500\n",
      "Epoch 14/100\n",
      "2/2 [==============================] - 0s 8ms/step - loss: 3.6663 - accuracy: 0.2490 - val_loss: 3.7685 - val_accuracy: 0.2407\n",
      "Epoch 15/100\n",
      "2/2 [==============================] - 0s 8ms/step - loss: 3.6084 - accuracy: 0.2950 - val_loss: 3.7184 - val_accuracy: 0.2222\n",
      "Epoch 16/100\n",
      "2/2 [==============================] - 0s 8ms/step - loss: 3.5461 - accuracy: 0.2874 - val_loss: 3.6761 - val_accuracy: 0.2222\n",
      "Epoch 17/100\n",
      "2/2 [==============================] - 0s 8ms/step - loss: 3.4886 - accuracy: 0.3218 - val_loss: 3.6361 - val_accuracy: 0.2407\n",
      "Epoch 18/100\n",
      "2/2 [==============================] - 0s 8ms/step - loss: 3.4310 - accuracy: 0.3295 - val_loss: 3.5921 - val_accuracy: 0.2778\n",
      "Epoch 19/100\n",
      "2/2 [==============================] - 0s 8ms/step - loss: 3.3853 - accuracy: 0.3333 - val_loss: 3.5477 - val_accuracy: 0.2500\n",
      "Epoch 20/100\n",
      "2/2 [==============================] - 0s 8ms/step - loss: 3.3167 - accuracy: 0.3985 - val_loss: 3.5025 - val_accuracy: 0.2315\n",
      "Epoch 21/100\n",
      "2/2 [==============================] - 0s 8ms/step - loss: 3.2583 - accuracy: 0.3870 - val_loss: 3.4622 - val_accuracy: 0.2685\n",
      "Epoch 22/100\n",
      "2/2 [==============================] - 0s 8ms/step - loss: 3.2253 - accuracy: 0.3870 - val_loss: 3.4133 - val_accuracy: 0.2778\n",
      "Epoch 23/100\n",
      "2/2 [==============================] - 0s 8ms/step - loss: 3.1418 - accuracy: 0.4444 - val_loss: 3.3698 - val_accuracy: 0.2870\n",
      "Epoch 24/100\n",
      "2/2 [==============================] - 0s 8ms/step - loss: 3.0860 - accuracy: 0.4406 - val_loss: 3.3038 - val_accuracy: 0.2870\n",
      "Epoch 25/100\n",
      "2/2 [==============================] - 0s 8ms/step - loss: 3.0189 - accuracy: 0.4215 - val_loss: 3.2603 - val_accuracy: 0.2963\n",
      "Epoch 26/100\n",
      "2/2 [==============================] - 0s 8ms/step - loss: 2.9634 - accuracy: 0.4291 - val_loss: 3.2262 - val_accuracy: 0.2778\n",
      "Epoch 27/100\n",
      "2/2 [==============================] - 0s 8ms/step - loss: 2.9211 - accuracy: 0.3985 - val_loss: 3.1742 - val_accuracy: 0.2963\n",
      "Epoch 28/100\n",
      "2/2 [==============================] - 0s 8ms/step - loss: 2.8413 - accuracy: 0.4598 - val_loss: 3.1342 - val_accuracy: 0.3241\n",
      "Epoch 29/100\n",
      "2/2 [==============================] - 0s 8ms/step - loss: 2.7749 - accuracy: 0.4866 - val_loss: 3.0776 - val_accuracy: 0.3241\n",
      "Epoch 30/100\n",
      "2/2 [==============================] - 0s 8ms/step - loss: 2.7377 - accuracy: 0.4904 - val_loss: 3.0432 - val_accuracy: 0.3426\n",
      "Epoch 31/100\n",
      "2/2 [==============================] - 0s 8ms/step - loss: 2.6838 - accuracy: 0.4904 - val_loss: 3.0077 - val_accuracy: 0.3241\n",
      "Epoch 32/100\n",
      "2/2 [==============================] - 0s 8ms/step - loss: 2.6188 - accuracy: 0.4866 - val_loss: 2.9606 - val_accuracy: 0.3611\n",
      "Epoch 33/100\n",
      "2/2 [==============================] - 0s 8ms/step - loss: 2.5632 - accuracy: 0.5287 - val_loss: 2.9168 - val_accuracy: 0.3519\n",
      "Epoch 34/100\n",
      "2/2 [==============================] - 0s 8ms/step - loss: 2.4941 - accuracy: 0.5364 - val_loss: 2.8759 - val_accuracy: 0.3611\n",
      "Epoch 35/100\n",
      "2/2 [==============================] - 0s 8ms/step - loss: 2.4506 - accuracy: 0.5134 - val_loss: 2.8239 - val_accuracy: 0.3981\n",
      "Epoch 36/100\n",
      "2/2 [==============================] - 0s 8ms/step - loss: 2.4101 - accuracy: 0.5517 - val_loss: 2.7692 - val_accuracy: 0.3796\n",
      "Epoch 37/100\n",
      "2/2 [==============================] - 0s 8ms/step - loss: 2.3490 - accuracy: 0.5785 - val_loss: 2.7123 - val_accuracy: 0.3981\n",
      "Epoch 38/100\n",
      "2/2 [==============================] - 0s 8ms/step - loss: 2.2849 - accuracy: 0.5900 - val_loss: 2.6693 - val_accuracy: 0.4074\n",
      "Epoch 39/100\n",
      "2/2 [==============================] - 0s 8ms/step - loss: 2.2409 - accuracy: 0.6245 - val_loss: 2.6349 - val_accuracy: 0.4444\n",
      "Epoch 40/100\n",
      "2/2 [==============================] - 0s 8ms/step - loss: 2.1946 - accuracy: 0.6130 - val_loss: 2.5807 - val_accuracy: 0.4444\n",
      "Epoch 41/100\n",
      "2/2 [==============================] - 0s 8ms/step - loss: 2.1347 - accuracy: 0.6207 - val_loss: 2.5439 - val_accuracy: 0.4444\n",
      "Epoch 42/100\n",
      "2/2 [==============================] - 0s 8ms/step - loss: 2.0678 - accuracy: 0.6552 - val_loss: 2.5030 - val_accuracy: 0.4907\n",
      "Epoch 43/100\n",
      "2/2 [==============================] - 0s 8ms/step - loss: 2.0346 - accuracy: 0.6552 - val_loss: 2.4624 - val_accuracy: 0.4352\n",
      "Epoch 44/100\n",
      "2/2 [==============================] - 0s 8ms/step - loss: 1.9667 - accuracy: 0.6437 - val_loss: 2.4211 - val_accuracy: 0.4537\n",
      "Epoch 45/100\n",
      "2/2 [==============================] - 0s 8ms/step - loss: 1.9187 - accuracy: 0.6628 - val_loss: 2.3863 - val_accuracy: 0.4352\n",
      "Epoch 46/100\n",
      "2/2 [==============================] - 0s 8ms/step - loss: 1.8713 - accuracy: 0.6513 - val_loss: 2.3428 - val_accuracy: 0.4907\n",
      "Epoch 47/100\n",
      "2/2 [==============================] - 0s 8ms/step - loss: 1.8300 - accuracy: 0.6743 - val_loss: 2.2830 - val_accuracy: 0.4815\n",
      "Epoch 48/100\n",
      "2/2 [==============================] - 0s 8ms/step - loss: 1.7895 - accuracy: 0.6667 - val_loss: 2.2569 - val_accuracy: 0.4630\n",
      "Epoch 49/100\n",
      "2/2 [==============================] - 0s 8ms/step - loss: 1.7421 - accuracy: 0.7126 - val_loss: 2.2053 - val_accuracy: 0.4537\n",
      "Epoch 50/100\n",
      "2/2 [==============================] - 0s 8ms/step - loss: 1.6713 - accuracy: 0.7280 - val_loss: 2.1718 - val_accuracy: 0.4815\n",
      "Epoch 51/100\n",
      "2/2 [==============================] - 0s 8ms/step - loss: 1.6220 - accuracy: 0.7356 - val_loss: 2.1382 - val_accuracy: 0.4907\n",
      "Epoch 52/100\n",
      "2/2 [==============================] - 0s 8ms/step - loss: 1.6035 - accuracy: 0.7510 - val_loss: 2.0860 - val_accuracy: 0.5370\n",
      "Epoch 53/100\n",
      "2/2 [==============================] - 0s 8ms/step - loss: 1.5635 - accuracy: 0.7510 - val_loss: 2.0485 - val_accuracy: 0.5556\n",
      "Epoch 54/100\n",
      "2/2 [==============================] - 0s 9ms/step - loss: 1.4813 - accuracy: 0.8238 - val_loss: 2.0299 - val_accuracy: 0.6111\n",
      "Epoch 55/100\n",
      "2/2 [==============================] - 0s 9ms/step - loss: 1.4646 - accuracy: 0.8084 - val_loss: 1.9823 - val_accuracy: 0.6111\n",
      "Epoch 56/100\n",
      "2/2 [==============================] - 0s 8ms/step - loss: 1.4594 - accuracy: 0.7854 - val_loss: 1.9527 - val_accuracy: 0.6019\n",
      "Epoch 57/100\n",
      "2/2 [==============================] - 0s 8ms/step - loss: 1.3892 - accuracy: 0.7816 - val_loss: 1.9144 - val_accuracy: 0.6204\n",
      "Epoch 58/100\n",
      "2/2 [==============================] - 0s 8ms/step - loss: 1.3213 - accuracy: 0.8238 - val_loss: 1.8954 - val_accuracy: 0.6204\n",
      "Epoch 59/100\n"
     ]
    },
    {
     "name": "stdout",
     "output_type": "stream",
     "text": [
      "2/2 [==============================] - 0s 8ms/step - loss: 1.3191 - accuracy: 0.8008 - val_loss: 1.8403 - val_accuracy: 0.6574\n",
      "Epoch 60/100\n",
      "2/2 [==============================] - 0s 8ms/step - loss: 1.2459 - accuracy: 0.8352 - val_loss: 1.7840 - val_accuracy: 0.6759\n",
      "Epoch 61/100\n",
      "2/2 [==============================] - 0s 8ms/step - loss: 1.2086 - accuracy: 0.8506 - val_loss: 1.7690 - val_accuracy: 0.6667\n",
      "Epoch 62/100\n",
      "2/2 [==============================] - 0s 9ms/step - loss: 1.1905 - accuracy: 0.8621 - val_loss: 1.7471 - val_accuracy: 0.6389\n",
      "Epoch 63/100\n",
      "2/2 [==============================] - 0s 8ms/step - loss: 1.1412 - accuracy: 0.8736 - val_loss: 1.7141 - val_accuracy: 0.6759\n",
      "Epoch 64/100\n",
      "2/2 [==============================] - 0s 9ms/step - loss: 1.1192 - accuracy: 0.8889 - val_loss: 1.7039 - val_accuracy: 0.6481\n",
      "Epoch 65/100\n",
      "2/2 [==============================] - 0s 8ms/step - loss: 1.0931 - accuracy: 0.8582 - val_loss: 1.6857 - val_accuracy: 0.6296\n",
      "Epoch 66/100\n",
      "2/2 [==============================] - 0s 8ms/step - loss: 1.0622 - accuracy: 0.8314 - val_loss: 1.6482 - val_accuracy: 0.6852\n",
      "Epoch 67/100\n",
      "2/2 [==============================] - 0s 8ms/step - loss: 1.0189 - accuracy: 0.8544 - val_loss: 1.6025 - val_accuracy: 0.6852\n",
      "Epoch 68/100\n",
      "2/2 [==============================] - 0s 8ms/step - loss: 1.0074 - accuracy: 0.8697 - val_loss: 1.5770 - val_accuracy: 0.7130\n",
      "Epoch 69/100\n",
      "2/2 [==============================] - 0s 8ms/step - loss: 0.9448 - accuracy: 0.8966 - val_loss: 1.5679 - val_accuracy: 0.7130\n",
      "Epoch 70/100\n",
      "2/2 [==============================] - 0s 8ms/step - loss: 0.9586 - accuracy: 0.8774 - val_loss: 1.5468 - val_accuracy: 0.7407\n",
      "Epoch 71/100\n",
      "2/2 [==============================] - 0s 8ms/step - loss: 0.9144 - accuracy: 0.8812 - val_loss: 1.5116 - val_accuracy: 0.6944\n",
      "Epoch 72/100\n",
      "2/2 [==============================] - 0s 8ms/step - loss: 0.8927 - accuracy: 0.8659 - val_loss: 1.4988 - val_accuracy: 0.6759\n",
      "Epoch 73/100\n",
      "2/2 [==============================] - ETA: 0s - loss: 0.8709 - accuracy: 0.88 - 0s 8ms/step - loss: 0.8699 - accuracy: 0.8889 - val_loss: 1.5021 - val_accuracy: 0.6574\n",
      "Epoch 74/100\n",
      "2/2 [==============================] - 0s 8ms/step - loss: 0.8304 - accuracy: 0.8966 - val_loss: 1.4926 - val_accuracy: 0.6759\n",
      "Epoch 75/100\n",
      "2/2 [==============================] - 0s 8ms/step - loss: 0.8297 - accuracy: 0.8966 - val_loss: 1.4450 - val_accuracy: 0.6944\n",
      "Epoch 76/100\n",
      "2/2 [==============================] - 0s 8ms/step - loss: 0.7747 - accuracy: 0.9349 - val_loss: 1.4005 - val_accuracy: 0.6852\n",
      "Epoch 77/100\n",
      "2/2 [==============================] - 0s 8ms/step - loss: 0.7811 - accuracy: 0.9080 - val_loss: 1.3917 - val_accuracy: 0.6759\n",
      "Epoch 78/100\n",
      "2/2 [==============================] - 0s 8ms/step - loss: 0.7366 - accuracy: 0.8889 - val_loss: 1.3668 - val_accuracy: 0.6944\n",
      "Epoch 79/100\n",
      "2/2 [==============================] - 0s 8ms/step - loss: 0.7186 - accuracy: 0.9234 - val_loss: 1.3419 - val_accuracy: 0.6944\n",
      "Epoch 80/100\n",
      "2/2 [==============================] - 0s 8ms/step - loss: 0.6729 - accuracy: 0.9310 - val_loss: 1.3138 - val_accuracy: 0.7037\n",
      "Epoch 81/100\n",
      "2/2 [==============================] - 0s 8ms/step - loss: 0.6525 - accuracy: 0.9310 - val_loss: 1.2754 - val_accuracy: 0.7130\n",
      "Epoch 82/100\n",
      "2/2 [==============================] - 0s 8ms/step - loss: 0.6298 - accuracy: 0.9310 - val_loss: 1.3237 - val_accuracy: 0.7130\n",
      "Epoch 83/100\n",
      "2/2 [==============================] - 0s 8ms/step - loss: 0.6818 - accuracy: 0.9119 - val_loss: 1.3011 - val_accuracy: 0.7037\n",
      "Epoch 84/100\n",
      "2/2 [==============================] - 0s 8ms/step - loss: 0.6188 - accuracy: 0.9464 - val_loss: 1.2726 - val_accuracy: 0.6852\n",
      "Epoch 85/100\n",
      "2/2 [==============================] - 0s 8ms/step - loss: 0.5994 - accuracy: 0.9310 - val_loss: 1.2500 - val_accuracy: 0.6481\n",
      "Epoch 86/100\n",
      "2/2 [==============================] - 0s 8ms/step - loss: 0.5563 - accuracy: 0.9502 - val_loss: 1.2492 - val_accuracy: 0.7037\n",
      "Epoch 87/100\n",
      "2/2 [==============================] - 0s 8ms/step - loss: 0.5726 - accuracy: 0.9464 - val_loss: 1.2211 - val_accuracy: 0.7037\n",
      "Epoch 88/100\n",
      "2/2 [==============================] - 0s 8ms/step - loss: 0.5510 - accuracy: 0.9617 - val_loss: 1.2068 - val_accuracy: 0.6944\n",
      "Epoch 89/100\n",
      "2/2 [==============================] - 0s 8ms/step - loss: 0.5221 - accuracy: 0.9540 - val_loss: 1.1826 - val_accuracy: 0.7315\n",
      "Epoch 90/100\n",
      "2/2 [==============================] - 0s 8ms/step - loss: 0.5180 - accuracy: 0.9310 - val_loss: 1.1641 - val_accuracy: 0.7315\n",
      "Epoch 91/100\n",
      "2/2 [==============================] - 0s 8ms/step - loss: 0.5069 - accuracy: 0.9387 - val_loss: 1.1626 - val_accuracy: 0.7315\n",
      "Epoch 92/100\n",
      "2/2 [==============================] - 0s 8ms/step - loss: 0.4786 - accuracy: 0.9425 - val_loss: 1.1262 - val_accuracy: 0.7037\n",
      "Epoch 93/100\n",
      "2/2 [==============================] - 0s 8ms/step - loss: 0.4452 - accuracy: 0.9732 - val_loss: 1.1401 - val_accuracy: 0.7222\n",
      "Epoch 94/100\n",
      "2/2 [==============================] - 0s 8ms/step - loss: 0.4451 - accuracy: 0.9693 - val_loss: 1.1238 - val_accuracy: 0.7037\n",
      "Epoch 95/100\n",
      "2/2 [==============================] - 0s 8ms/step - loss: 0.4256 - accuracy: 0.9693 - val_loss: 1.1012 - val_accuracy: 0.7593\n",
      "Epoch 96/100\n",
      "2/2 [==============================] - 0s 8ms/step - loss: 0.4332 - accuracy: 0.9540 - val_loss: 1.0670 - val_accuracy: 0.7593\n",
      "Epoch 97/100\n",
      "2/2 [==============================] - 0s 8ms/step - loss: 0.4108 - accuracy: 0.9579 - val_loss: 1.0745 - val_accuracy: 0.7222\n",
      "Epoch 98/100\n",
      "2/2 [==============================] - 0s 8ms/step - loss: 0.3865 - accuracy: 0.9693 - val_loss: 1.0432 - val_accuracy: 0.7500\n",
      "Epoch 99/100\n",
      "2/2 [==============================] - 0s 8ms/step - loss: 0.3574 - accuracy: 0.9808 - val_loss: 1.0353 - val_accuracy: 0.7500\n",
      "Epoch 100/100\n",
      "2/2 [==============================] - 0s 8ms/step - loss: 0.3828 - accuracy: 0.9655 - val_loss: 1.0352 - val_accuracy: 0.7500\n"
     ]
    }
   ],
   "source": [
    "history = model.fit(X_train_scaled, Y_train_encoded, batch_size=256, epochs=100, validation_data=(X_test_scaled, Y_test_encoded))"
   ]
  },
  {
   "cell_type": "code",
   "execution_count": 183,
   "metadata": {},
   "outputs": [
    {
     "name": "stdout",
     "output_type": "stream",
     "text": [
      "[1, 0, 0, 0, 0, 0, 0, 0, 0, 0, 0, 0, 0, 0, 0, 0, 0, 0, 0, 0, 0, 0, 0, 0, 0, 0, 0, 0, 0, 0, 0, 0, 0, 0, 0, 0, 0, 0, 0, 0, 0, 0, 0, 0, 0, 0, 0, 0, 0, 0, 0, 0, 0, 0, 0, 0, 0, 0, 0, 0, 0, 0, 0, 0, 0, 0, 0, 0, 0, 0, 0, 0, 0, 0, 0, 0, 0, 0, 0, 0, 0, 0, 0, 0, 0, 0, 0]\n",
      "223\n",
      "223\n",
      "Alastair predicted correctly\n"
     ]
    }
   ],
   "source": [
    "alastair = extract_features(\"test/alastair.wav\") # test sample of alastair saying alexa - seperate from training data\n",
    "\n",
    "labels = Y_train_encoded.tolist() # list of the labels from training\n",
    "\n",
    "to_predict = [alastair] # list of data for the model to predict, just one item for now\n",
    "predictions = model.predict(to_predict) # returns a list of predictions \n",
    "al = predictions[0].tolist() # take the first element which is the prediciton for the first element in to_predict, remember this is still one hot encoded so it is a big array of 0s and 1s\n",
    "al_float = [int(i) for i in al] # convert it to floats\n",
    "\n",
    "print(al_float) # encoded label, if the prediction is right it should be [1,0,0,0, ...] since alastair is the first file in the alexa folder\n",
    "\n",
    "prediction = labels.index(al_float) # index of predicted label\n",
    "actual = Y_train.index('alastair') # index of alastair in training set\n",
    "\n",
    "print(prediction)\n",
    "print(actual)\n",
    "\n",
    "if(prediction == actual):\n",
    "    print(\"Alastair predicted correctly\")\n",
    "else:\n",
    "    print(\":(\")"
   ]
  },
  {
   "cell_type": "code",
   "execution_count": null,
   "metadata": {},
   "outputs": [],
   "source": []
  },
  {
   "cell_type": "code",
   "execution_count": null,
   "metadata": {},
   "outputs": [],
   "source": []
  }
 ],
 "metadata": {
  "kernelspec": {
   "display_name": "Python 3",
   "language": "python",
   "name": "python3"
  },
  "language_info": {
   "codemirror_mode": {
    "name": "ipython",
    "version": 3
   },
   "file_extension": ".py",
   "mimetype": "text/x-python",
   "name": "python",
   "nbconvert_exporter": "python",
   "pygments_lexer": "ipython3",
   "version": "3.8.7"
  }
 },
 "nbformat": 4,
 "nbformat_minor": 4
}
