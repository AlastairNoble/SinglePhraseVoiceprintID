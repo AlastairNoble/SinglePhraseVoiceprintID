{
 "cells": [
  {
   "cell_type": "code",
   "execution_count": 14,
   "metadata": {},
   "outputs": [],
   "source": [
    "import pandas as pd\n",
    "import os"
   ]
  },
  {
   "cell_type": "code",
   "execution_count": 16,
   "metadata": {},
   "outputs": [],
   "source": [
    "speakers = os.listdir('alexa/')"
   ]
  },
  {
   "cell_type": "code",
   "execution_count": 39,
   "metadata": {},
   "outputs": [
    {
     "name": "stdout",
     "output_type": "stream",
     "text": [
      "      speaker              filepath\n",
      "0    anfcucvo  alexa/anfcucvo/1.wav\n",
      "1    anfcucvo  alexa/anfcucvo/2.wav\n",
      "2    anfcucvo  alexa/anfcucvo/3.wav\n",
      "3    anfcucvo  alexa/anfcucvo/4.wav\n",
      "4    anfcucvo  alexa/anfcucvo/5.wav\n",
      "..        ...                   ...\n",
      "364  zmnsojmf  alexa/zmnsojmf/4.wav\n",
      "365  zzgleilo  alexa/zzgleilo/1.wav\n",
      "366  zzgleilo  alexa/zzgleilo/2.wav\n",
      "367  zzgleilo  alexa/zzgleilo/3.wav\n",
      "368  zzgleilo  alexa/zzgleilo/4.wav\n",
      "\n",
      "[369 rows x 2 columns]\n"
     ]
    }
   ],
   "source": [
    "df = pd.DataFrame(columns=['speaker','filepath'])\n",
    "for speaker in speakers:\n",
    "    files = os.listdir('alexa/{}/'.format(speaker))\n",
    "    for file in files:\n",
    "        filepath = 'alexa/{}/{}'.format(speaker, file)\n",
    "        df = df.append({'speaker':speaker, 'filepath':filepath}, ignore_index=True)\n",
    "print(df)"
   ]
  },
  {
   "cell_type": "code",
   "execution_count": 40,
   "metadata": {},
   "outputs": [],
   "source": [
    "from sklearn.model_selection import train_test_split"
   ]
  },
  {
   "cell_type": "code",
   "execution_count": 45,
   "metadata": {},
   "outputs": [],
   "source": [
    "train, test = train_test_split(df, test_size = 0.25, stratify = df['speaker'])\n",
    "# the stratify parameter makes the function split data evenly over the speakers column\n",
    "# this is so we dont get all files of the same speaker in the test set and not the training set"
   ]
  },
  {
   "cell_type": "code",
   "execution_count": 47,
   "metadata": {},
   "outputs": [],
   "source": [
    "import librosa"
   ]
  },
  {
   "cell_type": "code",
   "execution_count": 55,
   "metadata": {},
   "outputs": [],
   "source": [
    "def extract_features(filename):\n",
    "    \n",
    "    X, sample_rate = librosa.load(filename, res_type='kaiser_fast')\n",
    "    \n",
    "    mfccs = librosa.feature.mfcc(y=X, sr=sample_rate, n_mfcc=40)\n",
    "\n",
    "    return mfccs"
   ]
  },
  {
   "cell_type": "code",
   "execution_count": 56,
   "metadata": {},
   "outputs": [
    {
     "name": "stdout",
     "output_type": "stream",
     "text": [
      "[[-695.06573    -695.06573    -687.16095    ... -382.72455\n",
      "  -428.9681     -505.89618   ]\n",
      " [   0.            0.           10.765701   ...  175.39636\n",
      "   163.991       125.07008   ]\n",
      " [   0.            0.            9.708285   ...   -1.3827927\n",
      "    17.074291     34.72208   ]\n",
      " ...\n",
      " [   0.            0.           -1.1683214  ...   -0.75313896\n",
      "    -3.0364661    -7.400213  ]\n",
      " [   0.            0.           -1.5795069  ...   -3.0686998\n",
      "    -4.4200945    -6.2548594 ]\n",
      " [   0.            0.           -1.5205576  ...   -2.7978776\n",
      "    -4.611684     -4.810507  ]]\n"
     ]
    }
   ],
   "source": [
    "print(extract_features('alexa/zzgleilo/4.wav'))"
   ]
  },
  {
   "cell_type": "code",
   "execution_count": 64,
   "metadata": {},
   "outputs": [
    {
     "name": "stdout",
     "output_type": "stream",
     "text": [
      "309    [[-545.5062, -545.5062, -450.9084, -159.34718,...\n",
      "10     [[-721.39746, -708.79614, -701.9618, -704.8033...\n",
      "216    [[-560.0983, -508.0086, -488.62112, -486.6732,...\n",
      "123    [[-754.34705, -741.775, -742.7967, -737.2212, ...\n",
      "51     [[-656.8094, -656.8094, -656.8094, -656.8094, ...\n",
      "                             ...                        \n",
      "52     [[-697.3323, -697.3323, -697.3323, -697.3323, ...\n",
      "296    [[-616.3425, -616.3425, -616.01605, -610.09863...\n",
      "30     [[-331.72607, -383.8076, -583.7505, -610.139, ...\n",
      "84     [[-581.7208, -581.7208, -581.7208, -581.7208, ...\n",
      "337    [[-415.83032, -372.44888, -363.922, -369.17456...\n",
      "Name: filepath, Length: 276, dtype: object\n"
     ]
    }
   ],
   "source": [
    "train_features = train['filepath'].apply(extract_features)\n",
    "print(train_features)"
   ]
  },
  {
   "cell_type": "code",
   "execution_count": null,
   "metadata": {},
   "outputs": [],
   "source": []
  }
 ],
 "metadata": {
  "kernelspec": {
   "display_name": "Python 3",
   "language": "python",
   "name": "python3"
  },
  "language_info": {
   "codemirror_mode": {
    "name": "ipython",
    "version": 3
   },
   "file_extension": ".py",
   "mimetype": "text/x-python",
   "name": "python",
   "nbconvert_exporter": "python",
   "pygments_lexer": "ipython3",
   "version": "3.8.6"
  }
 },
 "nbformat": 4,
 "nbformat_minor": 4
}
