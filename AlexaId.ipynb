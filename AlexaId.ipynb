{
 "cells": [
  {
   "cell_type": "code",
   "execution_count": 65,
   "metadata": {},
   "outputs": [],
   "source": [
    "import pandas as pd\n",
    "import numpy as np\n",
    "import os\n",
    "import librosa\n",
    "import pyaudio\n",
    "import wave\n",
    "import time\n",
    "from sklearn.model_selection import train_test_split\n",
    "from sklearn.preprocessing import StandardScaler\n",
    "from sklearn.preprocessing import LabelEncoder\n",
    "from keras.utils.np_utils import to_categorical\n",
    "from keras.models import Sequential\n",
    "from keras.layers import Dense, Dropout, Activation, Flatten\n",
    "from keras.callbacks import EarlyStopping"
   ]
  },
  {
   "cell_type": "code",
   "execution_count": 66,
   "metadata": {},
   "outputs": [
    {
     "name": "stdout",
     "output_type": "stream",
     "text": [
      "4\n"
     ]
    },
    {
     "data": {
      "text/html": [
       "<div>\n",
       "<style scoped>\n",
       "    .dataframe tbody tr th:only-of-type {\n",
       "        vertical-align: middle;\n",
       "    }\n",
       "\n",
       "    .dataframe tbody tr th {\n",
       "        vertical-align: top;\n",
       "    }\n",
       "\n",
       "    .dataframe thead th {\n",
       "        text-align: right;\n",
       "    }\n",
       "</style>\n",
       "<table border=\"1\" class=\"dataframe\">\n",
       "  <thead>\n",
       "    <tr style=\"text-align: right;\">\n",
       "      <th></th>\n",
       "      <th>filepath</th>\n",
       "      <th>speaker</th>\n",
       "    </tr>\n",
       "  </thead>\n",
       "  <tbody>\n",
       "    <tr>\n",
       "      <th>0</th>\n",
       "      <td>team/alastair/1.wav</td>\n",
       "      <td>alastair</td>\n",
       "    </tr>\n",
       "    <tr>\n",
       "      <th>1</th>\n",
       "      <td>team/alastair/2.wav</td>\n",
       "      <td>alastair</td>\n",
       "    </tr>\n",
       "    <tr>\n",
       "      <th>2</th>\n",
       "      <td>team/alastair/3.wav</td>\n",
       "      <td>alastair</td>\n",
       "    </tr>\n",
       "    <tr>\n",
       "      <th>3</th>\n",
       "      <td>team/alastair/5.wav</td>\n",
       "      <td>alastair</td>\n",
       "    </tr>\n",
       "    <tr>\n",
       "      <th>4</th>\n",
       "      <td>team/alex/1.wav</td>\n",
       "      <td>alex</td>\n",
       "    </tr>\n",
       "  </tbody>\n",
       "</table>\n",
       "</div>"
      ],
      "text/plain": [
       "              filepath   speaker\n",
       "0  team/alastair/1.wav  alastair\n",
       "1  team/alastair/2.wav  alastair\n",
       "2  team/alastair/3.wav  alastair\n",
       "3  team/alastair/5.wav  alastair\n",
       "4      team/alex/1.wav      alex"
      ]
     },
     "execution_count": 66,
     "metadata": {},
     "output_type": "execute_result"
    }
   ],
   "source": [
    "DIR = 'team/' # 'alexa/'\n",
    "speakers = os.listdir(DIR)\n",
    "# speakers = speakers[:4]\n",
    "\n",
    "df = pd.DataFrame(columns=['filepath', 'speaker'])\n",
    "for speaker in speakers:\n",
    "    files = os.listdir(DIR+'{}/'.format(speaker))\n",
    "    for file in files:\n",
    "        filepath = DIR+ '{}/{}'.format(speaker, file)\n",
    "        df = df.append({'filepath':filepath, 'speaker':speaker}, ignore_index=True)\n",
    "print(len(speakers))\n",
    "df.head() # this is just a print statement"
   ]
  },
  {
   "cell_type": "code",
   "execution_count": 67,
   "metadata": {},
   "outputs": [
    {
     "data": {
      "text/html": [
       "<div>\n",
       "<style scoped>\n",
       "    .dataframe tbody tr th:only-of-type {\n",
       "        vertical-align: middle;\n",
       "    }\n",
       "\n",
       "    .dataframe tbody tr th {\n",
       "        vertical-align: top;\n",
       "    }\n",
       "\n",
       "    .dataframe thead th {\n",
       "        text-align: right;\n",
       "    }\n",
       "</style>\n",
       "<table border=\"1\" class=\"dataframe\">\n",
       "  <thead>\n",
       "    <tr style=\"text-align: right;\">\n",
       "      <th></th>\n",
       "      <th>filepath</th>\n",
       "      <th>speaker</th>\n",
       "    </tr>\n",
       "  </thead>\n",
       "  <tbody>\n",
       "    <tr>\n",
       "      <th>8</th>\n",
       "      <td>team/eli/1.wav</td>\n",
       "      <td>eli</td>\n",
       "    </tr>\n",
       "    <tr>\n",
       "      <th>12</th>\n",
       "      <td>team/harley/1.wav</td>\n",
       "      <td>harley</td>\n",
       "    </tr>\n",
       "    <tr>\n",
       "      <th>2</th>\n",
       "      <td>team/alastair/3.wav</td>\n",
       "      <td>alastair</td>\n",
       "    </tr>\n",
       "    <tr>\n",
       "      <th>4</th>\n",
       "      <td>team/alex/1.wav</td>\n",
       "      <td>alex</td>\n",
       "    </tr>\n",
       "    <tr>\n",
       "      <th>6</th>\n",
       "      <td>team/alex/3.wav</td>\n",
       "      <td>alex</td>\n",
       "    </tr>\n",
       "  </tbody>\n",
       "</table>\n",
       "</div>"
      ],
      "text/plain": [
       "               filepath   speaker\n",
       "8        team/eli/1.wav       eli\n",
       "12    team/harley/1.wav    harley\n",
       "2   team/alastair/3.wav  alastair\n",
       "4       team/alex/1.wav      alex\n",
       "6       team/alex/3.wav      alex"
      ]
     },
     "execution_count": 67,
     "metadata": {},
     "output_type": "execute_result"
    }
   ],
   "source": [
    "\n",
    "train, test = train_test_split(df, test_size = 0.29, stratify = df['speaker'])\n",
    "# the stratify parameter makes the function split data evenly over the speakers column\n",
    "# this is so we dont get all files of the same speaker in the test set and not the training set\n",
    "train.head()"
   ]
  },
  {
   "cell_type": "code",
   "execution_count": 68,
   "metadata": {},
   "outputs": [],
   "source": [
    "MFCCS = 12\n",
    "\n",
    "def extract_features(filename):\n",
    "    \n",
    "    X, sample_rate = librosa.load(filename, res_type='kaiser_fast')\n",
    "    \n",
    "    # librosa returns an array of 40 arrays, one for each mfcc\n",
    "    # np.mean takes the mean of each array, so we will be left with an array of size 40\n",
    "    # the n_mfcc=40 parameter means return 40 mfccs\n",
    "    mfccs = librosa.feature.mfcc(y=X, sr=sample_rate, n_mfcc=MFCCS)\n",
    "    \n",
    "    mfccs_mean = np.mean(mfccs.T, axis=0)\n",
    "    \n",
    "    # plp = librosa.beat.plp(y=X, sr=22050, onset_envelope=None, hop_length=512, win_length=99, tempo_min=30, tempo_max=300, prior=None)\n",
    "    \n",
    "    return mfccs_mean.tolist()#  + plp.tolist()"
   ]
  },
  {
   "cell_type": "code",
   "execution_count": 69,
   "metadata": {},
   "outputs": [
    {
     "data": {
      "text/plain": [
       "8     [-494.1591491699219, 77.5472412109375, 33.6363...\n",
       "12    [-613.1090087890625, 92.3533706665039, 2.85021...\n",
       "2     [-754.1896362304688, 64.00310516357422, 7.3716...\n",
       "4     [-496.4476318359375, 129.58126831054688, 61.19...\n",
       "6     [-399.6903076171875, 147.39346313476562, 54.82...\n",
       "Name: filepath, dtype: object"
      ]
     },
     "execution_count": 69,
     "metadata": {},
     "output_type": "execute_result"
    }
   ],
   "source": [
    "# apply the extract features to every element in train and test\n",
    "train_features = train['filepath'].apply(extract_features)\n",
    "\n",
    "# train_features is now an array of arrays\n",
    "test_features = test['filepath'].apply(extract_features)\n",
    "\n",
    "train_features.head()"
   ]
  },
  {
   "cell_type": "code",
   "execution_count": 70,
   "metadata": {},
   "outputs": [],
   "source": [
    "# split into X and Y where X is the features and Y is the label (name of speaker)\n",
    "# remember that each array is still in the same order as above \n",
    "# so each element in X_train corresponds to an element in Y_train at the same index\n",
    "X_train = train_features.tolist()\n",
    "X_test = test_features.tolist()\n",
    "Y_train = train['speaker'].tolist()\n",
    "Y_test = test['speaker'].tolist()"
   ]
  },
  {
   "cell_type": "code",
   "execution_count": 71,
   "metadata": {},
   "outputs": [
    {
     "name": "stdout",
     "output_type": "stream",
     "text": [
      "Speaker: eli\n",
      "Features: [-494.1591491699219, 77.5472412109375, 33.636329650878906, 15.328489303588867, -0.5756244659423828, 7.3330607414245605, 8.233574867248535, 1.0448485612869263, -1.5833865404129028, -0.4561096429824829, -1.52070152759552, 6.954306125640869]: \n"
     ]
    }
   ],
   "source": [
    "# now X_train is a 2d array, and each array is the long array of mfccs\n",
    "print(\"Speaker: {}\".format(Y_train[0]))\n",
    "print(\"Features: {}: \".format(X_train[0]))"
   ]
  },
  {
   "cell_type": "code",
   "execution_count": 72,
   "metadata": {},
   "outputs": [],
   "source": [
    "\n",
    "# hot encode y \n",
    "lb = LabelEncoder()\n",
    "\n",
    "Y_train_encoded = to_categorical(lb.fit_transform(Y_train))\n",
    "Y_test_encoded = to_categorical(lb.fit_transform(Y_test))"
   ]
  },
  {
   "cell_type": "code",
   "execution_count": 73,
   "metadata": {},
   "outputs": [],
   "source": [
    "ss = StandardScaler()\n",
    "\n",
    "X_train_scaled = ss.fit_transform(X_train)\n",
    "X_test_scaled = ss.fit_transform(X_test)\n"
   ]
  },
  {
   "cell_type": "code",
   "execution_count": 74,
   "metadata": {},
   "outputs": [
    {
     "name": "stdout",
     "output_type": "stream",
     "text": [
      "Epoch 1/20\n",
      "1/1 [==============================] - 0s 125ms/step - loss: 1.4112 - accuracy: 0.2727 - val_loss: 1.2356 - val_accuracy: 0.6000\n",
      "Epoch 2/20\n",
      "1/1 [==============================] - 0s 26ms/step - loss: 1.2288 - accuracy: 0.6364 - val_loss: 1.1586 - val_accuracy: 0.4000\n",
      "Epoch 3/20\n",
      "1/1 [==============================] - 0s 16ms/step - loss: 1.1171 - accuracy: 0.8182 - val_loss: 1.0911 - val_accuracy: 0.4000\n",
      "Epoch 4/20\n",
      "1/1 [==============================] - 0s 17ms/step - loss: 1.0330 - accuracy: 0.7273 - val_loss: 1.0436 - val_accuracy: 0.6000\n",
      "Epoch 5/20\n",
      "1/1 [==============================] - 0s 17ms/step - loss: 0.9582 - accuracy: 0.8182 - val_loss: 1.0053 - val_accuracy: 0.4000\n",
      "Epoch 6/20\n",
      "1/1 [==============================] - 0s 16ms/step - loss: 0.9069 - accuracy: 0.7273 - val_loss: 0.9677 - val_accuracy: 0.8000\n",
      "Epoch 7/20\n",
      "1/1 [==============================] - 0s 16ms/step - loss: 0.8516 - accuracy: 0.9091 - val_loss: 0.9376 - val_accuracy: 0.8000\n",
      "Epoch 8/20\n",
      "1/1 [==============================] - 0s 15ms/step - loss: 0.8374 - accuracy: 0.9091 - val_loss: 0.9052 - val_accuracy: 0.8000\n",
      "Epoch 9/20\n",
      "1/1 [==============================] - 0s 16ms/step - loss: 0.8087 - accuracy: 0.9091 - val_loss: 0.8741 - val_accuracy: 0.8000\n",
      "Epoch 10/20\n",
      "1/1 [==============================] - 0s 16ms/step - loss: 0.7458 - accuracy: 0.9091 - val_loss: 0.8464 - val_accuracy: 0.8000\n",
      "Epoch 11/20\n",
      "1/1 [==============================] - 0s 15ms/step - loss: 0.7240 - accuracy: 0.9091 - val_loss: 0.8207 - val_accuracy: 0.8000\n",
      "Epoch 12/20\n",
      "1/1 [==============================] - 0s 16ms/step - loss: 0.7039 - accuracy: 1.0000 - val_loss: 0.8012 - val_accuracy: 0.8000\n",
      "Epoch 13/20\n",
      "1/1 [==============================] - 0s 16ms/step - loss: 0.6618 - accuracy: 1.0000 - val_loss: 0.7807 - val_accuracy: 0.8000\n",
      "Epoch 14/20\n",
      "1/1 [==============================] - 0s 15ms/step - loss: 0.6379 - accuracy: 0.9091 - val_loss: 0.7633 - val_accuracy: 0.8000\n",
      "Epoch 15/20\n",
      "1/1 [==============================] - 0s 16ms/step - loss: 0.6100 - accuracy: 1.0000 - val_loss: 0.7454 - val_accuracy: 0.8000\n",
      "Epoch 16/20\n",
      "1/1 [==============================] - 0s 15ms/step - loss: 0.5083 - accuracy: 1.0000 - val_loss: 0.7286 - val_accuracy: 0.8000\n",
      "Epoch 17/20\n",
      "1/1 [==============================] - 0s 16ms/step - loss: 0.5149 - accuracy: 1.0000 - val_loss: 0.7091 - val_accuracy: 0.8000\n",
      "Epoch 18/20\n",
      "1/1 [==============================] - 0s 15ms/step - loss: 0.5116 - accuracy: 0.9091 - val_loss: 0.6927 - val_accuracy: 0.8000\n",
      "Epoch 19/20\n",
      "1/1 [==============================] - 0s 15ms/step - loss: 0.4376 - accuracy: 1.0000 - val_loss: 0.6751 - val_accuracy: 0.8000\n",
      "Epoch 20/20\n",
      "1/1 [==============================] - 0s 15ms/step - loss: 0.4544 - accuracy: 0.9091 - val_loss: 0.6626 - val_accuracy: 0.8000\n"
     ]
    }
   ],
   "source": [
    "model = Sequential()\n",
    "\n",
    "model.add(Dense(MFCCS, input_shape=(MFCCS,), activation = 'relu'))\n",
    "model.add(Dropout(0.2))\n",
    "\n",
    "# model.add(Dense(256, activation = 'relu'))\n",
    "# model.add(Dropout(0.01))  \n",
    "\n",
    "model.add(Dense(512, activation = 'relu'))\n",
    "model.add(Dropout(0.3))    \n",
    "\n",
    "model.add(Dense(len(Y_train_encoded[0]), activation = 'softmax'))\n",
    "\n",
    "model.compile(loss='categorical_crossentropy', metrics=['accuracy'])\n",
    "\n",
    "history = model.fit(X_train_scaled, Y_train_encoded, epochs=20, validation_data=(X_test_scaled, Y_test_encoded))"
   ]
  },
  {
   "cell_type": "code",
   "execution_count": 75,
   "metadata": {},
   "outputs": [],
   "source": [
    "def predict_speaker(file_path):\n",
    "      \n",
    "    labels = Y_train_encoded.tolist() # list of the encoded labels from training \n",
    "    \n",
    "    features = ss.transform([extract_features(file_path)])\n",
    "    to_predict = np.array(features) # list of data for the model to predict, just one item for now\n",
    "    \n",
    "    predictions = model.predict(to_predict) # returns a list of predictions \n",
    "    pred = predictions[0].tolist() # take the first element which is the prediciton for the first element in to_predict, remember this is still one hot encoded so it is a big array of 0s and 1s\n",
    "    \n",
    "    m = max(pred)\n",
    "    p = [1 if i==m else 0 for i in pred] # convert highest propability to 1 and all else to 0\n",
    "    \n",
    "    try:\n",
    "        prediction_ind = labels.index(p) # index of predicted label (encoded)\n",
    "        prediction = Y_train[prediction_ind]\n",
    "    except:\n",
    "        prediction = \"could not identify speaker\"\n",
    "        \n",
    "    return prediction\n",
    "    \n"
   ]
  },
  {
   "cell_type": "code",
   "execution_count": 76,
   "metadata": {
    "scrolled": true
   },
   "outputs": [
    {
     "data": {
      "text/plain": [
       "'alex'"
      ]
     },
     "execution_count": 76,
     "metadata": {},
     "output_type": "execute_result"
    }
   ],
   "source": [
    "predict_speaker(\"test/alex.wav\")"
   ]
  },
  {
   "cell_type": "code",
   "execution_count": 77,
   "metadata": {},
   "outputs": [
    {
     "data": {
      "text/plain": [
       "'harley'"
      ]
     },
     "execution_count": 77,
     "metadata": {},
     "output_type": "execute_result"
    }
   ],
   "source": [
    "predict_speaker(\"test/Harley.wav\")"
   ]
  },
  {
   "cell_type": "code",
   "execution_count": 78,
   "metadata": {},
   "outputs": [
    {
     "data": {
      "text/plain": [
       "'harley'"
      ]
     },
     "execution_count": 78,
     "metadata": {},
     "output_type": "execute_result"
    }
   ],
   "source": [
    "predict_speaker(\"test/eli.wav\")"
   ]
  },
  {
   "cell_type": "code",
   "execution_count": 79,
   "metadata": {},
   "outputs": [
    {
     "data": {
      "text/plain": [
       "'alastair'"
      ]
     },
     "execution_count": 79,
     "metadata": {},
     "output_type": "execute_result"
    }
   ],
   "source": [
    "predict_speaker(\"test/alastair.wav\")"
   ]
  },
  {
   "cell_type": "code",
   "execution_count": 81,
   "metadata": {},
   "outputs": [
    {
     "name": "stdout",
     "output_type": "stream",
     "text": [
      "say 'Alexa' in: 3\n",
      "2\n",
      "1\n",
      "* recording\n",
      "* done recording\n",
      "\n",
      "harley\n"
     ]
    }
   ],
   "source": [
    "CHUNK = 1024\n",
    "FORMAT = pyaudio.paInt16\n",
    "CHANNELS = 2\n",
    "RATE = 44100\n",
    "RECORD_SECONDS = 2\n",
    "WAVE_OUTPUT_FILENAME = \"test/audio_input.wav\"\n",
    "\n",
    "p = pyaudio.PyAudio()\n",
    "\n",
    "stream = p.open(format=FORMAT,\n",
    "                channels=CHANNELS,\n",
    "                rate=RATE,\n",
    "                input=True,\n",
    "                frames_per_buffer=CHUNK)\n",
    "print(\"say 'Alexa' in: 3\")\n",
    "for i in range(2,0,-1):\n",
    "    time.sleep(1)\n",
    "    print (i)\n",
    "time.sleep(1)\n",
    "\n",
    "print(\"* recording\")\n",
    "\n",
    "frames = []\n",
    "\n",
    "for i in range(0, int(RATE / CHUNK * RECORD_SECONDS)):\n",
    "    data = stream.read(CHUNK)\n",
    "    frames.append(data)\n",
    "\n",
    "print(\"* done recording\")\n",
    "\n",
    "stream.stop_stream()\n",
    "stream.close()\n",
    "p.terminate()\n",
    "\n",
    "wf = wave.open(WAVE_OUTPUT_FILENAME, 'wb')\n",
    "wf.setnchannels(CHANNELS)\n",
    "wf.setsampwidth(p.get_sample_size(FORMAT))\n",
    "wf.setframerate(RATE)\n",
    "wf.writeframes(b''.join(frames))\n",
    "wf.close()\n",
    "print()\n",
    "print(predict_speaker(WAVE_OUTPUT_FILENAME))\n"
   ]
  },
  {
   "cell_type": "code",
   "execution_count": null,
   "metadata": {},
   "outputs": [],
   "source": []
  },
  {
   "cell_type": "code",
   "execution_count": null,
   "metadata": {},
   "outputs": [],
   "source": []
  },
  {
   "cell_type": "code",
   "execution_count": null,
   "metadata": {},
   "outputs": [],
   "source": []
  }
 ],
 "metadata": {
  "kernelspec": {
   "display_name": "Python 3",
   "language": "python",
   "name": "python3"
  },
  "language_info": {
   "codemirror_mode": {
    "name": "ipython",
    "version": 3
   },
   "file_extension": ".py",
   "mimetype": "text/x-python",
   "name": "python",
   "nbconvert_exporter": "python",
   "pygments_lexer": "ipython3",
   "version": "3.8.7"
  }
 },
 "nbformat": 4,
 "nbformat_minor": 4
}
